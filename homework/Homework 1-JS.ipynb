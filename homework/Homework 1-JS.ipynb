{
 "cells": [
  {
   "cell_type": "markdown",
   "id": "40c5e8bc",
   "metadata": {},
   "source": [
    "# Homework 1\n",
    "\n",
    "## FINM 37400 - 2024\n",
    "\n",
    "### UChicago Financial Mathematics\n",
    "\n",
    "* Mark Hendricks\n",
    "* hendricks@uchicago.edu"
   ]
  },
  {
   "cell_type": "markdown",
   "id": "c8554bd9",
   "metadata": {},
   "source": [
    "This homework relies on the data file, `treasury_quotes_2023-07-26`.\n",
    "\n",
    "#### Nominal Securities\n",
    "The problems below analyze the nominal, (rather than the TIPS,) Treasury issues. Accordingly, you should filter out all rows with `ITYPE` of 11 or 12, as these indicate a TIPS Note or TIPS bond.\n",
    "\n",
    "\n",
    "#### More Info\n",
    "Find more info about many of the fields in the data set at the following link,\n",
    "\n",
    "https://www.crsp.org/products/documentation/treasno-properties\n",
    "\n",
    "Find the complete manual for the CRSP Treasury data at the following link,\n",
    "\n",
    "https://www.crsp.org/files/treasury_guide_0.pdf"
   ]
  },
  {
   "cell_type": "code",
   "execution_count": 1,
   "id": "b5048b3b",
   "metadata": {},
   "outputs": [],
   "source": [
    "import pandas as pd\n",
    "import numpy as np\n",
    "import datetime\n",
    "from scipy.optimize import fsolve\n",
    "import warnings\n",
    "warnings.filterwarnings('ignore')\n",
    "\n",
    "from sklearn.linear_model import LinearRegression\n",
    "from scipy.optimize import minimize\n",
    "from scipy import interpolate\n",
    "\n",
    "from pandas.tseries.holiday import USFederalHolidayCalendar\n",
    "from pandas.tseries.offsets import CustomBusinessDay\n",
    "\n",
    "\n",
    "import matplotlib.pyplot as plt\n",
    "%matplotlib inline\n",
    "plt.rcParams['figure.figsize'] = (12,6)\n",
    "plt.rcParams['font.size'] = 15\n",
    "plt.rcParams['legend.fontsize'] = 13"
   ]
  },
  {
   "cell_type": "markdown",
   "id": "6839f5bf",
   "metadata": {},
   "source": [
    "# Helper Functions"
   ]
  },
  {
   "cell_type": "code",
   "execution_count": 2,
   "id": "30f49175",
   "metadata": {},
   "outputs": [],
   "source": [
    "def get_maturity_delta(t_maturity,t_current):\n",
    "    maturity_delta = (t_maturity - t_current) / pd.Timedelta('365.25 days')\n",
    "    return maturity_delta"
   ]
  },
  {
   "cell_type": "code",
   "execution_count": 3,
   "id": "3b95731a",
   "metadata": {},
   "outputs": [],
   "source": [
    "def calc_cashflows(quote_data, filter_maturity_dates=False):\n",
    "    \n",
    "    CF = pd.DataFrame(data=0, index=quote_data.index, columns=quote_data['TMATDT'].unique())\n",
    "\n",
    "    for i in quote_data.index:\n",
    "        coupon_dates = get_coupon_dates(quote_data.loc[i,'CALDT'],quote_data.loc[i,'TMATDT'])\n",
    "\n",
    "        if coupon_dates is not None:\n",
    "            CF.loc[i,coupon_dates] = quote_data.loc[i,'TCOUPRT']/2\n",
    "\n",
    "        CF.loc[i,quote_data.loc[i,'TMATDT']] += 100\n",
    "\n",
    "\n",
    "    CF = CF.fillna(0).sort_index(axis=1)\n",
    "    CF.drop(columns=CF.columns[(CF==0).all()],inplace=True)\n",
    "\n",
    "    if filter_maturity_dates:\n",
    "        CF = filter_treasury_cashflows(CF, filter_maturity_dates=True)\n",
    "        \n",
    "    return CF"
   ]
  },
  {
   "cell_type": "code",
   "execution_count": 4,
   "id": "31d50047",
   "metadata": {},
   "outputs": [],
   "source": [
    "def get_coupon_dates(quote_date,maturity_date):\n",
    "\n",
    "    if isinstance(quote_date,str):\n",
    "        quote_date = datetime.datetime.strptime(quote_date,'%Y-%m-%d')\n",
    "        \n",
    "    if isinstance(maturity_date,str):\n",
    "        maturity_date = datetime.datetime.strptime(maturity_date,'%Y-%m-%d')\n",
    "    \n",
    "    # divide by 180 just to be safe\n",
    "    temp = pd.date_range(end=maturity_date, periods=np.ceil((maturity_date-quote_date).days/180), freq=pd.DateOffset(months=6))\n",
    "    # filter out if one date too many\n",
    "    temp = pd.DataFrame(data=temp[temp > quote_date])\n",
    "\n",
    "    out = temp[0]\n",
    "    return out"
   ]
  },
  {
   "cell_type": "code",
   "execution_count": 5,
   "id": "1fd7d319",
   "metadata": {},
   "outputs": [],
   "source": [
    "def filter_treasuries(data, t_date=None, filter_maturity = None, filter_maturity_min=None, drop_duplicate_maturities = False, filter_tips=True, filter_yld=True):\n",
    "    outdata = data.copy()\n",
    "    \n",
    "    if t_date is None:\n",
    "        t_date = outdata['CALDT'].values[-1]\n",
    "    \n",
    "    outdata = outdata[outdata['CALDT']==t_date]\n",
    "    \n",
    "    # Filter out redundant maturity\n",
    "    if drop_duplicate_maturities:\n",
    "        outdata = outdata.drop_duplicates(subset=['TMATDT'])\n",
    "    \n",
    "    # Filter by max maturity\n",
    "    if filter_maturity is not None:\n",
    "        mask_truncate = outdata['TMATDT'] < (t_date + np.timedelta64(365*filter_maturity+1,'D'))\n",
    "        outdata = outdata[mask_truncate]\n",
    "\n",
    "    # Filter by min maturity\n",
    "    if filter_maturity_min is not None:\n",
    "        mask_truncate = outdata['TMATDT'] > (t_date + np.timedelta64(365*filter_maturity_min-1,'D'))\n",
    "        outdata = outdata[mask_truncate]\n",
    "\n",
    "    outdata = outdata[outdata['ITYPE'].isin([11,12]) == (not filter_tips)]\n",
    "        \n",
    "    if filter_yld:\n",
    "        outdata = outdata[outdata['TDYLD']>0]\n",
    "        \n",
    "    return outdata"
   ]
  },
  {
   "cell_type": "code",
   "execution_count": 6,
   "id": "f3848d33",
   "metadata": {},
   "outputs": [],
   "source": [
    "def filter_treasury_cashflows(CF, filter_maturity_dates=False, filter_benchmark_dates=False, filter_CF_strict=True):\n",
    "\n",
    "    mask_benchmark_dts = []\n",
    "    \n",
    "    # Filter by using only benchmark treasury dates\n",
    "    for col in CF.columns:\n",
    "        if filter_benchmark_dates:\n",
    "            if col.month in [2,5,8,11] and col.day == 15:\n",
    "                mask_benchmark_dts.append(col)\n",
    "        else:\n",
    "            mask_benchmark_dts.append(col)\n",
    "    \n",
    "    if filter_maturity_dates:\n",
    "        mask_maturity_dts = CF.columns[(CF>=100).any()]\n",
    "    else:\n",
    "        mask_maturity_dts = CF.columns\n",
    "    \n",
    "    mask = [i for i in mask_benchmark_dts if i in mask_maturity_dts]\n",
    "\n",
    "    CF_filtered = CF[mask]\n",
    "          \n",
    "    if filter_CF_strict:\n",
    "        # drop issues that had CF on excluded dates\n",
    "        mask_bnds = CF_filtered.sum(axis=1) == CF.sum(axis=1)\n",
    "        CF_filtered = CF_filtered[mask_bnds]\n",
    "\n",
    "    else:\n",
    "        # drop issues that have no CF on included dates\n",
    "        mask_bnds = CF_filtered.sum(axis=1) > 0\n",
    "        CF_filtered = CF_filtered[mask_bnds]\n",
    "        \n",
    "        \n",
    "    # update to drop dates with no CF\n",
    "    CF_filtered = CF_filtered.loc[:,(CF_filtered>0).any()]\n",
    "    \n",
    "    return CF_filtered"
   ]
  },
  {
   "cell_type": "code",
   "execution_count": 7,
   "id": "80a8cd87",
   "metadata": {},
   "outputs": [],
   "source": [
    "def pv(rate, cashflows, maturities,freq=1):\n",
    "    price = sum([cfi/(1+rate/freq)**(maturities[i]*freq) for i, cfi in enumerate(cashflows)])\n",
    "    return price"
   ]
  },
  {
   "cell_type": "code",
   "execution_count": 8,
   "id": "3fa2a43b",
   "metadata": {},
   "outputs": [],
   "source": [
    "def bootstrap(params,maturity):\n",
    "    estimated_maturities = params[0]\n",
    "    betas = params[1]\n",
    "    estimated_rates = discount_to_intrate(betas,estimated_maturities)\n",
    "    \n",
    "    f = interpolate.interp1d(estimated_maturities, estimated_rates, bounds_error=False, fill_value='extrapolate')\n",
    "    \n",
    "    rate = f(maturity)\n",
    "\n",
    "    return rate"
   ]
  },
  {
   "cell_type": "code",
   "execution_count": 9,
   "id": "6a2e6ab1",
   "metadata": {},
   "outputs": [],
   "source": [
    "def estimate_rate_curve(model,CF,t_current,prices,x0=None):\n",
    "\n",
    "    if model is bootstrap:\n",
    "        params = estimate_curve_ols(CF,prices,interpolate=False)\n",
    "        \n",
    "        CF_intervals = get_maturity_delta(CF.columns.to_series(),t_current=t_current).values\n",
    "    \n",
    "        params_optimized = [CF_intervals,params]\n",
    "\n",
    "    else:\n",
    "        if x0 is None:\n",
    "            if model is nelson_siegel:\n",
    "                x0 = np.ones(4)/10\n",
    "            elif model is nelson_siegel_extended:\n",
    "                x0 = np.ones(6)\n",
    "            else:\n",
    "                x0 = 1        \n",
    "\n",
    "        mod = minimize(pricing_errors, x0, args=(CF, t_current, model, prices))\n",
    "        params_optimized = mod.x\n",
    "\n",
    "    return params_optimized"
   ]
  },
  {
   "cell_type": "code",
   "execution_count": 10,
   "id": "12491b24",
   "metadata": {},
   "outputs": [],
   "source": [
    "def estimate_curve_ols(CF,prices,interpolate=False):\n",
    "\n",
    "    if isinstance(prices,pd.DataFrame) or isinstance(prices,pd.Series):\n",
    "        prices = prices[CF.index].values\n",
    "    \n",
    "    mod = LinearRegression(fit_intercept=False).fit(CF.values,prices)\n",
    "\n",
    "    if interpolate:\n",
    "        matgrid = get_maturity_delta(CF.columns,CF.columns.min())\n",
    "\n",
    "        dts_valid = np.logical_and(mod.coef_<1.25, mod.coef_>0)\n",
    "\n",
    "        xold = matgrid[dts_valid]\n",
    "        xnew = matgrid\n",
    "        yold = mod.coef_[dts_valid]\n",
    "\n",
    "        f = interpolate.interp1d(xold, yold, bounds_error=False, fill_value='extrapolate')    \n",
    "        discounts = f(xnew)\n",
    "\n",
    "    else:\n",
    "        discounts = mod.coef_    \n",
    "        \n",
    "    return discounts"
   ]
  },
  {
   "cell_type": "code",
   "execution_count": 11,
   "id": "4278ac14",
   "metadata": {},
   "outputs": [],
   "source": [
    "def nelson_siegel(params,maturity):\n",
    "    rate = params[0] + (params[1] + params[2]) * (1 - np.exp(-maturity/params[3]))/(maturity/params[3]) - params[2] * np.exp(-maturity/params[3])\n",
    "    \n",
    "    return rate\n",
    "\n",
    "def nelson_siegel_extended(params,maturity):\n",
    "    rate = params[0] + (params[1] + params[2]) * (1 - np.exp(-maturity/params[3]))/(maturity/params[3]) - params[2] * np.exp(-maturity/params[3]) + params[4] *((1-np.exp(-maturity/params[5]))/(maturity/params[5]) - np.exp(-maturity/params[5]))\n",
    "    \n",
    "    return rate"
   ]
  },
  {
   "cell_type": "code",
   "execution_count": 12,
   "id": "5d14fce5",
   "metadata": {},
   "outputs": [],
   "source": [
    "def pricing_errors(params,CF,t_current,fun_model,observed_prices):\n",
    "    price_modeled = price_with_rate_model(params,CF,t_current,fun_model)\n",
    "    if isinstance(observed_prices,pd.DataFrame) or isinstance(observed_prices,pd.Series):\n",
    "        observed_prices = observed_prices.values\n",
    "    error = sum((observed_prices - price_modeled)**2)\n",
    "    return error\n",
    "\n",
    "\n",
    "def price_with_rate_model(params,CF,t_current,fun_model, convert_to_discount=True, price_coupons=False):\n",
    "\n",
    "    maturity = get_maturity_delta(CF.columns, t_current)\n",
    "    if convert_to_discount:\n",
    "        disc = np.zeros(maturity.shape)\n",
    "        for i, mat in enumerate(maturity):\n",
    "            disc[i] = intrate_to_discount(fun_model(params,mat),mat)\n",
    "    else:\n",
    "        disc = fun(params,mat)\n",
    "        \n",
    "    if price_coupons:\n",
    "        price = CF * disc\n",
    "    else:\n",
    "        price = CF @ disc\n",
    "    \n",
    "    return price"
   ]
  },
  {
   "cell_type": "code",
   "execution_count": 13,
   "id": "24ccf607",
   "metadata": {},
   "outputs": [],
   "source": [
    "def intrate_to_discount(intrate, maturity, n_compound=None):\n",
    "    \n",
    "    if n_compound is None:\n",
    "        discount = np.exp(-intrate * maturity)\n",
    "    else:\n",
    "        discount = 1 / (1+(intrate / n_compound))**(n_compound * maturity)\n",
    "\n",
    "    return discount "
   ]
  },
  {
   "cell_type": "code",
   "execution_count": 14,
   "id": "ed3b66eb",
   "metadata": {},
   "outputs": [],
   "source": [
    "def discount_to_intrate(discount, maturity, n_compound=None):\n",
    "        \n",
    "    if n_compound is None:\n",
    "        intrate = - np.log(discount) / maturity\n",
    "    \n",
    "    else:\n",
    "        intrate = n_compound * (1/discount**(1/(n_compound * maturity)) - 1)    \n",
    "        \n",
    "    return intrate"
   ]
  },
  {
   "cell_type": "code",
   "execution_count": 15,
   "id": "84c603f5",
   "metadata": {},
   "outputs": [],
   "source": [
    "def compound_rate(intrate,compound_input,compound_output):\n",
    "    \n",
    "#    outrate = intrate[['maturity']]\n",
    "    \n",
    "    if compound_input is None:\n",
    "        outrate = compound_output * (np.exp(intrate/compound_output) - 1)\n",
    "    elif compound_output is None:\n",
    "        outrate = compound_input * np.log(1 + intrate/compound_input)\n",
    "    else:\n",
    "        outrate = ((1 + intrate/compound_input) ** (compound_input/compound_output) - 1) * compound_output\n",
    "\n",
    "    return outrate"
   ]
  },
  {
   "cell_type": "markdown",
   "id": "bd8f03ac",
   "metadata": {},
   "source": [
    "# Read Data"
   ]
  },
  {
   "cell_type": "code",
   "execution_count": 16,
   "id": "ab20c470",
   "metadata": {},
   "outputs": [
    {
     "data": {
      "text/plain": [
       "'Analysis based on quotes from: 2023-07-26'"
      ]
     },
     "execution_count": 16,
     "metadata": {},
     "output_type": "execute_result"
    }
   ],
   "source": [
    "QUOTE_DATE = '2023-07-26'\n",
    "\n",
    "filepath_rawdata = f'../data/treasury_quotes_{QUOTE_DATE}.xlsx'\n",
    "rawdata = pd.read_excel(filepath_rawdata,sheet_name='quotes')\n",
    "rawdata.columns = rawdata.columns.str.upper()\n",
    "rawdata.sort_values('TMATDT',inplace=True)\n",
    "rawdata.set_index('KYTREASNO',inplace=True)\n",
    "\n",
    "t_check = rawdata['CALDT'].values[0]\n",
    "if rawdata['CALDT'].eq(t_check).all():\n",
    "    t_current = t_check\n",
    "else:\n",
    "    warnings.warn('Quotes are from multiple dates.')\n",
    "    t_current = None\n",
    "f'Analysis based on quotes from: {pd.to_datetime(t_current):%Y-%m-%d}'"
   ]
  },
  {
   "cell_type": "code",
   "execution_count": 17,
   "id": "1e344ea9",
   "metadata": {},
   "outputs": [],
   "source": [
    "metrics = rawdata.copy()[['TDATDT','TMATDT','TCOUPRT','TDYLD','TDDURATN','TDPUBOUT']]\n",
    "metrics.columns = ['issue date','maturity date','coupon rate','TDYLD','duration','outstanding']\n",
    "metrics['TDYLD'] *= 365\n",
    "metrics['duration'] /= 365\n",
    "metrics['outstanding'] *= 1e6\n",
    "metrics['maturity'] = get_maturity_delta(metrics['maturity date'], t_current)\n",
    "metrics['price'] = (rawdata['TDBID'] + rawdata['TDASK'])/2 + rawdata['TDACCINT']\n",
    "metrics['ask-bid'] = rawdata['TDASK'] - rawdata['TDBID']\n",
    "metrics['next cashflow date'] = (calc_cashflows(rawdata) != 0).idxmax(1)\n",
    "metrics = metrics[['issue date','maturity date','maturity','coupon rate','next cashflow date','price','TDYLD','ask-bid']]"
   ]
  },
  {
   "cell_type": "markdown",
   "id": "0c08a178",
   "metadata": {},
   "source": [
    "# Problem 1: Explore the Data"
   ]
  },
  {
   "cell_type": "markdown",
   "id": "bff90e67",
   "metadata": {},
   "source": [
    "## 1 Maturity\n",
    "\n",
    "For each issue, calculate its time-to-maturity, quoted in number of years, based on the issue and maturity dates. Assume a year has exactly 365.25 days.\n",
    "\n",
    "Report the summary statistics of these time-to-maturities. Consider using `.describe()`."
   ]
  },
  {
   "cell_type": "code",
   "execution_count": 18,
   "id": "1e8f4720",
   "metadata": {},
   "outputs": [
    {
     "data": {
      "text/plain": [
       "count    437.000000\n",
       "mean       6.647571\n",
       "std        8.176720\n",
       "min        0.002738\n",
       "25%        1.056810\n",
       "50%        3.181383\n",
       "75%        7.055441\n",
       "max       29.637235\n",
       "Name: maturity, dtype: float64"
      ]
     },
     "execution_count": 18,
     "metadata": {},
     "output_type": "execute_result"
    }
   ],
   "source": [
    "metrics['maturity'].describe()"
   ]
  },
  {
   "cell_type": "markdown",
   "id": "f2146d66",
   "metadata": {},
   "source": [
    "## 2 Prices \n",
    "\n",
    "Calculate the \"dirty\" price for each bond issue as\n",
    "$$\\text{price} = \\frac{1}{2}(\\text{TDBID} + \\text{TDASK}) + \\text{TDACCINT}$$\n",
    "Namely, you are taking the midpoint of the bid and ask prices, and then you add the accrued interest.\n",
    "\n",
    "We will discuss this adjustment for accrued interest later. For now, simply adjust as described in the formula."
   ]
  },
  {
   "cell_type": "code",
   "execution_count": 19,
   "id": "57e1b0bd",
   "metadata": {},
   "outputs": [
    {
     "data": {
      "text/plain": [
       "count    437.000000\n",
       "mean      94.190181\n",
       "std        8.935293\n",
       "min       55.518003\n",
       "25%       90.371094\n",
       "50%       96.466797\n",
       "75%       99.052649\n",
       "max      114.621264\n",
       "Name: price, dtype: float64"
      ]
     },
     "execution_count": 19,
     "metadata": {},
     "output_type": "execute_result"
    }
   ],
   "source": [
    "metrics['price'].describe()"
   ]
  },
  {
   "cell_type": "markdown",
   "id": "7bcf1b53",
   "metadata": {},
   "source": [
    "## 3 YTM\n",
    "\n",
    "Write a function to calculate the yield-to-maturity for each issue. You will need to use a nonlinear solver to solve for the YTM."
   ]
  },
  {
   "cell_type": "markdown",
   "id": "02604bd6",
   "metadata": {},
   "source": [
    "Create a dataframe with the following columns:\n",
    "\n",
    "\n",
    "| maturity | price | coupon rate | ytm | TDYLD | bid-ask |\n",
    "|----------|-------|-------------|-----|----------|---------|\n",
    "\n",
    "where \n",
    "* `maturity` refers to the time-to-maturity\n",
    "* `TDYLD` is the YTM calculated by the data provider\n",
    "\n",
    "Use `describe()` in pandas to to show descriptive statistics for this dataframe."
   ]
  },
  {
   "cell_type": "code",
   "execution_count": 20,
   "id": "f46d7751",
   "metadata": {},
   "outputs": [],
   "source": [
    "RESTRICT_YLD = False\n",
    "RESTRICT_TIPS = True\n",
    "\n",
    "RESTRICT_DTS_MATURING = False\n",
    "RESTRICT_REDUNDANT = False\n",
    "\n",
    "data = filter_treasuries(rawdata, t_date=t_current, filter_yld = RESTRICT_YLD, filter_tips = RESTRICT_TIPS, drop_duplicate_maturities=RESTRICT_REDUNDANT)\n",
    "CF = filter_treasury_cashflows(calc_cashflows(data),filter_maturity_dates=RESTRICT_DTS_MATURING)"
   ]
  },
  {
   "cell_type": "code",
   "execution_count": 21,
   "id": "7229ecfc",
   "metadata": {},
   "outputs": [],
   "source": [
    "px = (rawdata[['TDASK','TDBID']].mean(axis=1) + rawdata['TDACCINT']).loc[CF.index]\n",
    "maturity_grid = pd.Series(get_maturity_delta(CF.columns.values,t_current=t_current),index=CF.columns)\n",
    "\n",
    "ytm = pd.DataFrame(index=px.index,columns=['semiannual'],dtype=float)\n",
    "for idbond in px.index:\n",
    "    pv_wrapper = lambda y: px.loc[idbond] - pv(y,CF.loc[idbond,:].values,maturity_grid.values,freq=2)\n",
    "    ytm.loc[idbond,'semiannual'] = fsolve(pv_wrapper,.01)"
   ]
  },
  {
   "cell_type": "code",
   "execution_count": 22,
   "id": "af40ff74",
   "metadata": {},
   "outputs": [
    {
     "data": {
      "text/html": [
       "<div>\n",
       "<style scoped>\n",
       "    .dataframe tbody tr th:only-of-type {\n",
       "        vertical-align: middle;\n",
       "    }\n",
       "\n",
       "    .dataframe tbody tr th {\n",
       "        vertical-align: top;\n",
       "    }\n",
       "\n",
       "    .dataframe thead th {\n",
       "        text-align: right;\n",
       "    }\n",
       "</style>\n",
       "<table border=\"1\" class=\"dataframe\">\n",
       "  <thead>\n",
       "    <tr style=\"text-align: right;\">\n",
       "      <th></th>\n",
       "      <th>maturity</th>\n",
       "      <th>price</th>\n",
       "      <th>coupon rate</th>\n",
       "      <th>TDYLD</th>\n",
       "      <th>ytm</th>\n",
       "      <th>ask-bid</th>\n",
       "    </tr>\n",
       "    <tr>\n",
       "      <th>KYTREASNO</th>\n",
       "      <th></th>\n",
       "      <th></th>\n",
       "      <th></th>\n",
       "      <th></th>\n",
       "      <th></th>\n",
       "      <th></th>\n",
       "    </tr>\n",
       "  </thead>\n",
       "  <tbody>\n",
       "    <tr>\n",
       "      <th>207997</th>\n",
       "      <td>0.002738</td>\n",
       "      <td>99.986111</td>\n",
       "      <td>0.000</td>\n",
       "      <td>0.050698</td>\n",
       "      <td>0.051382</td>\n",
       "      <td>0.000028</td>\n",
       "    </tr>\n",
       "    <tr>\n",
       "      <th>207231</th>\n",
       "      <td>0.013689</td>\n",
       "      <td>101.337017</td>\n",
       "      <td>2.750</td>\n",
       "      <td>0.027357</td>\n",
       "      <td>0.027564</td>\n",
       "      <td>0.031250</td>\n",
       "    </tr>\n",
       "    <tr>\n",
       "      <th>207742</th>\n",
       "      <td>0.013689</td>\n",
       "      <td>100.017805</td>\n",
       "      <td>0.125</td>\n",
       "      <td>0.032614</td>\n",
       "      <td>0.032905</td>\n",
       "      <td>0.039062</td>\n",
       "    </tr>\n",
       "    <tr>\n",
       "      <th>206998</th>\n",
       "      <td>0.013689</td>\n",
       "      <td>100.564766</td>\n",
       "      <td>1.250</td>\n",
       "      <td>0.043711</td>\n",
       "      <td>0.044223</td>\n",
       "      <td>0.039062</td>\n",
       "    </tr>\n",
       "    <tr>\n",
       "      <th>208025</th>\n",
       "      <td>0.016427</td>\n",
       "      <td>99.915000</td>\n",
       "      <td>0.000</td>\n",
       "      <td>0.051730</td>\n",
       "      <td>0.052441</td>\n",
       "      <td>0.000167</td>\n",
       "    </tr>\n",
       "    <tr>\n",
       "      <th>...</th>\n",
       "      <td>...</td>\n",
       "      <td>...</td>\n",
       "      <td>...</td>\n",
       "      <td>...</td>\n",
       "      <td>...</td>\n",
       "      <td>...</td>\n",
       "    </tr>\n",
       "    <tr>\n",
       "      <th>207934</th>\n",
       "      <td>29.056810</td>\n",
       "      <td>85.006129</td>\n",
       "      <td>3.000</td>\n",
       "      <td>0.039081</td>\n",
       "      <td>0.039492</td>\n",
       "      <td>0.046875</td>\n",
       "    </tr>\n",
       "    <tr>\n",
       "      <th>207977</th>\n",
       "      <td>29.308693</td>\n",
       "      <td>101.977921</td>\n",
       "      <td>4.000</td>\n",
       "      <td>0.038894</td>\n",
       "      <td>0.039301</td>\n",
       "      <td>0.015625</td>\n",
       "    </tr>\n",
       "    <tr>\n",
       "      <th>208020</th>\n",
       "      <td>29.560575</td>\n",
       "      <td>96.466797</td>\n",
       "      <td>1.500</td>\n",
       "      <td>NaN</td>\n",
       "      <td>NaN</td>\n",
       "      <td>0.332031</td>\n",
       "    </tr>\n",
       "    <tr>\n",
       "      <th>208019</th>\n",
       "      <td>29.560575</td>\n",
       "      <td>96.026286</td>\n",
       "      <td>3.625</td>\n",
       "      <td>0.039049</td>\n",
       "      <td>0.039460</td>\n",
       "      <td>0.015625</td>\n",
       "    </tr>\n",
       "    <tr>\n",
       "      <th>208062</th>\n",
       "      <td>29.637235</td>\n",
       "      <td>95.263927</td>\n",
       "      <td>3.625</td>\n",
       "      <td>0.038739</td>\n",
       "      <td>0.039738</td>\n",
       "      <td>0.062500</td>\n",
       "    </tr>\n",
       "  </tbody>\n",
       "</table>\n",
       "<p>437 rows × 6 columns</p>\n",
       "</div>"
      ],
      "text/plain": [
       "            maturity       price  coupon rate     TDYLD       ytm   ask-bid\n",
       "KYTREASNO                                                                  \n",
       "207997      0.002738   99.986111        0.000  0.050698  0.051382  0.000028\n",
       "207231      0.013689  101.337017        2.750  0.027357  0.027564  0.031250\n",
       "207742      0.013689  100.017805        0.125  0.032614  0.032905  0.039062\n",
       "206998      0.013689  100.564766        1.250  0.043711  0.044223  0.039062\n",
       "208025      0.016427   99.915000        0.000  0.051730  0.052441  0.000167\n",
       "...              ...         ...          ...       ...       ...       ...\n",
       "207934     29.056810   85.006129        3.000  0.039081  0.039492  0.046875\n",
       "207977     29.308693  101.977921        4.000  0.038894  0.039301  0.015625\n",
       "208020     29.560575   96.466797        1.500       NaN       NaN  0.332031\n",
       "208019     29.560575   96.026286        3.625  0.039049  0.039460  0.015625\n",
       "208062     29.637235   95.263927        3.625  0.038739  0.039738  0.062500\n",
       "\n",
       "[437 rows x 6 columns]"
      ]
     },
     "execution_count": 22,
     "metadata": {},
     "output_type": "execute_result"
    }
   ],
   "source": [
    "COMPOUND_FREQ = 'semiannual'\n",
    "\n",
    "table = metrics.copy()\n",
    "table = table[['maturity','price','coupon rate','TDYLD','ask-bid']]\n",
    "table.insert(4,'ytm',ytm[COMPOUND_FREQ])\n",
    "table"
   ]
  },
  {
   "cell_type": "code",
   "execution_count": 23,
   "id": "1c5ba14b",
   "metadata": {},
   "outputs": [
    {
     "data": {
      "text/plain": [
       "count    386.000000\n",
       "mean       0.046452\n",
       "std        0.005785\n",
       "min        0.027564\n",
       "25%        0.041345\n",
       "50%        0.045072\n",
       "75%        0.052602\n",
       "max        0.060865\n",
       "Name: ytm, dtype: float64"
      ]
     },
     "execution_count": 23,
     "metadata": {},
     "output_type": "execute_result"
    }
   ],
   "source": [
    "table['ytm'].describe()"
   ]
  },
  {
   "cell_type": "markdown",
   "id": "f3df934c",
   "metadata": {},
   "source": [
    "## 4 Plots\n",
    "\n",
    "Create scatter plots of...\n",
    "* maturity versus price for all issues.\n",
    "* maturity versus YTM for all issues."
   ]
  },
  {
   "cell_type": "code",
   "execution_count": 24,
   "id": "7011b722",
   "metadata": {},
   "outputs": [
    {
     "data": {
      "text/plain": [
       "<AxesSubplot:xlabel='maturity', ylabel='price'>"
      ]
     },
     "execution_count": 24,
     "metadata": {},
     "output_type": "execute_result"
    },
    {
     "data": {
      "image/png": "[encoded data removed]",
      "text/plain": [
       "<Figure size 864x432 with 1 Axes>"
      ]
     },
     "metadata": {
      "needs_background": "light"
     },
     "output_type": "display_data"
    }
   ],
   "source": [
    "table.plot.scatter('maturity', 'price')"
   ]
  },
  {
   "cell_type": "code",
   "execution_count": 25,
   "id": "916c9c72",
   "metadata": {},
   "outputs": [
    {
     "data": {
      "text/plain": [
       "<AxesSubplot:xlabel='maturity', ylabel='ytm'>"
      ]
     },
     "execution_count": 25,
     "metadata": {},
     "output_type": "execute_result"
    },
    {
     "data": {
      "image/png": "[encoded data removed]",
      "text/plain": [
       "<Figure size 864x432 with 1 Axes>"
      ]
     },
     "metadata": {
      "needs_background": "light"
     },
     "output_type": "display_data"
    }
   ],
   "source": [
    "table.plot.scatter('maturity', 'ytm')"
   ]
  },
  {
   "cell_type": "markdown",
   "id": "217949e4",
   "metadata": {},
   "source": [
    "## 5 Bad Data?\n",
    "\n",
    "Find the issues where `TDYLD` is `NaN`. Display these rows from your table above. How many issues (rows) are effected?\n",
    "\n",
    "What do you see in the other metrics for these issues that suggests that the price is bad?"
   ]
  },
  {
   "cell_type": "code",
   "execution_count": 26,
   "id": "87b32389",
   "metadata": {},
   "outputs": [
    {
     "data": {
      "text/plain": [
       "'No NaN yields.'"
      ]
     },
     "metadata": {},
     "output_type": "display_data"
    }
   ],
   "source": [
    "idx_nominal = rawdata['ITYPE']<11\n",
    "idx = rawdata[idx_nominal]['TDYLD'].isna()\n",
    "if idx.any():\n",
    "    table[idx]\n",
    "else:\n",
    "    display(f'No NaN yields.')"
   ]
  },
  {
   "cell_type": "markdown",
   "id": "87aff4e3",
   "metadata": {},
   "source": [
    "***"
   ]
  },
  {
   "cell_type": "markdown",
   "id": "61c29da9",
   "metadata": {},
   "source": [
    "# Problem 2: Extract the Discount Curve"
   ]
  },
  {
   "cell_type": "markdown",
   "id": "a6965c6c",
   "metadata": {},
   "source": [
    "## 1 Map Cashflows\n",
    "\n",
    "Create the cashflow matrix, $\\textbf{C}$, where each rows is a Treasury issue, each column is a date, and each entry is the cash paid on a (normalized) face value of \\$100.\n",
    "\n",
    "You will need to make a few modeling choices to do this...\n",
    "* eliminate any treasury that does not report `TDYTM` or that reports a negative number for `TDYTM`.\n",
    "* assume notes and bonds pay coupons every six months, going backward from the date of maturity.\n",
    "\n",
    "Make other reasonable modeling assumptions as needed.\n",
    "\n",
    "Report:\n",
    "* head and tail rows of the dataframe, $\\textbf{C}$, for instance, using `display()`.\n",
    "\n",
    "* which date has the most cashflow across all issues?\n",
    "\n",
    "* which date has the most issues paying a cashflow?"
   ]
  },
  {
   "cell_type": "code",
   "execution_count": 27,
   "id": "e7a881b8",
   "metadata": {},
   "outputs": [
    {
     "data": {
      "text/html": [
       "<div>\n",
       "<style scoped>\n",
       "    .dataframe tbody tr th:only-of-type {\n",
       "        vertical-align: middle;\n",
       "    }\n",
       "\n",
       "    .dataframe tbody tr th {\n",
       "        vertical-align: top;\n",
       "    }\n",
       "\n",
       "    .dataframe thead th {\n",
       "        text-align: right;\n",
       "    }\n",
       "</style>\n",
       "<table border=\"1\" class=\"dataframe\">\n",
       "  <thead>\n",
       "    <tr style=\"text-align: right;\">\n",
       "      <th></th>\n",
       "      <th>2023-07-27</th>\n",
       "      <th>2023-07-31</th>\n",
       "      <th>2023-08-01</th>\n",
       "      <th>2023-08-03</th>\n",
       "      <th>2023-08-08</th>\n",
       "      <th>2023-08-10</th>\n",
       "      <th>2023-08-15</th>\n",
       "      <th>2023-08-17</th>\n",
       "      <th>2023-08-22</th>\n",
       "      <th>2023-08-24</th>\n",
       "      <th>...</th>\n",
       "      <th>2051-09-15</th>\n",
       "      <th>2051-11-15</th>\n",
       "      <th>2052-02-15</th>\n",
       "      <th>2052-03-15</th>\n",
       "      <th>2052-05-15</th>\n",
       "      <th>2052-08-15</th>\n",
       "      <th>2052-09-15</th>\n",
       "      <th>2052-11-15</th>\n",
       "      <th>2053-02-15</th>\n",
       "      <th>2053-03-15</th>\n",
       "    </tr>\n",
       "    <tr>\n",
       "      <th>KYTREASNO</th>\n",
       "      <th></th>\n",
       "      <th></th>\n",
       "      <th></th>\n",
       "      <th></th>\n",
       "      <th></th>\n",
       "      <th></th>\n",
       "      <th></th>\n",
       "      <th></th>\n",
       "      <th></th>\n",
       "      <th></th>\n",
       "      <th></th>\n",
       "      <th></th>\n",
       "      <th></th>\n",
       "      <th></th>\n",
       "      <th></th>\n",
       "      <th></th>\n",
       "      <th></th>\n",
       "      <th></th>\n",
       "      <th></th>\n",
       "      <th></th>\n",
       "      <th></th>\n",
       "    </tr>\n",
       "  </thead>\n",
       "  <tbody>\n",
       "    <tr>\n",
       "      <th>207997</th>\n",
       "      <td>100</td>\n",
       "      <td>0.0000</td>\n",
       "      <td>0</td>\n",
       "      <td>0</td>\n",
       "      <td>0</td>\n",
       "      <td>0</td>\n",
       "      <td>0.0000</td>\n",
       "      <td>0</td>\n",
       "      <td>0</td>\n",
       "      <td>0</td>\n",
       "      <td>...</td>\n",
       "      <td>0.0000</td>\n",
       "      <td>0.0</td>\n",
       "      <td>0.0000</td>\n",
       "      <td>0.0000</td>\n",
       "      <td>0.0</td>\n",
       "      <td>0.0000</td>\n",
       "      <td>0.0000</td>\n",
       "      <td>0</td>\n",
       "      <td>0.0000</td>\n",
       "      <td>0.0000</td>\n",
       "    </tr>\n",
       "    <tr>\n",
       "      <th>207231</th>\n",
       "      <td>0</td>\n",
       "      <td>101.3750</td>\n",
       "      <td>0</td>\n",
       "      <td>0</td>\n",
       "      <td>0</td>\n",
       "      <td>0</td>\n",
       "      <td>0.0000</td>\n",
       "      <td>0</td>\n",
       "      <td>0</td>\n",
       "      <td>0</td>\n",
       "      <td>...</td>\n",
       "      <td>0.0000</td>\n",
       "      <td>0.0</td>\n",
       "      <td>0.0000</td>\n",
       "      <td>0.0000</td>\n",
       "      <td>0.0</td>\n",
       "      <td>0.0000</td>\n",
       "      <td>0.0000</td>\n",
       "      <td>0</td>\n",
       "      <td>0.0000</td>\n",
       "      <td>0.0000</td>\n",
       "    </tr>\n",
       "    <tr>\n",
       "      <th>207742</th>\n",
       "      <td>0</td>\n",
       "      <td>100.0625</td>\n",
       "      <td>0</td>\n",
       "      <td>0</td>\n",
       "      <td>0</td>\n",
       "      <td>0</td>\n",
       "      <td>0.0000</td>\n",
       "      <td>0</td>\n",
       "      <td>0</td>\n",
       "      <td>0</td>\n",
       "      <td>...</td>\n",
       "      <td>0.0000</td>\n",
       "      <td>0.0</td>\n",
       "      <td>0.0000</td>\n",
       "      <td>0.0000</td>\n",
       "      <td>0.0</td>\n",
       "      <td>0.0000</td>\n",
       "      <td>0.0000</td>\n",
       "      <td>0</td>\n",
       "      <td>0.0000</td>\n",
       "      <td>0.0000</td>\n",
       "    </tr>\n",
       "    <tr>\n",
       "      <th>206998</th>\n",
       "      <td>0</td>\n",
       "      <td>100.6250</td>\n",
       "      <td>0</td>\n",
       "      <td>0</td>\n",
       "      <td>0</td>\n",
       "      <td>0</td>\n",
       "      <td>0.0000</td>\n",
       "      <td>0</td>\n",
       "      <td>0</td>\n",
       "      <td>0</td>\n",
       "      <td>...</td>\n",
       "      <td>0.0000</td>\n",
       "      <td>0.0</td>\n",
       "      <td>0.0000</td>\n",
       "      <td>0.0000</td>\n",
       "      <td>0.0</td>\n",
       "      <td>0.0000</td>\n",
       "      <td>0.0000</td>\n",
       "      <td>0</td>\n",
       "      <td>0.0000</td>\n",
       "      <td>0.0000</td>\n",
       "    </tr>\n",
       "    <tr>\n",
       "      <th>208025</th>\n",
       "      <td>0</td>\n",
       "      <td>0.0000</td>\n",
       "      <td>100</td>\n",
       "      <td>0</td>\n",
       "      <td>0</td>\n",
       "      <td>0</td>\n",
       "      <td>0.0000</td>\n",
       "      <td>0</td>\n",
       "      <td>0</td>\n",
       "      <td>0</td>\n",
       "      <td>...</td>\n",
       "      <td>0.0000</td>\n",
       "      <td>0.0</td>\n",
       "      <td>0.0000</td>\n",
       "      <td>0.0000</td>\n",
       "      <td>0.0</td>\n",
       "      <td>0.0000</td>\n",
       "      <td>0.0000</td>\n",
       "      <td>0</td>\n",
       "      <td>0.0000</td>\n",
       "      <td>0.0000</td>\n",
       "    </tr>\n",
       "    <tr>\n",
       "      <th>...</th>\n",
       "      <td>...</td>\n",
       "      <td>...</td>\n",
       "      <td>...</td>\n",
       "      <td>...</td>\n",
       "      <td>...</td>\n",
       "      <td>...</td>\n",
       "      <td>...</td>\n",
       "      <td>...</td>\n",
       "      <td>...</td>\n",
       "      <td>...</td>\n",
       "      <td>...</td>\n",
       "      <td>...</td>\n",
       "      <td>...</td>\n",
       "      <td>...</td>\n",
       "      <td>...</td>\n",
       "      <td>...</td>\n",
       "      <td>...</td>\n",
       "      <td>...</td>\n",
       "      <td>...</td>\n",
       "      <td>...</td>\n",
       "      <td>...</td>\n",
       "    </tr>\n",
       "    <tr>\n",
       "      <th>207934</th>\n",
       "      <td>0</td>\n",
       "      <td>0.0000</td>\n",
       "      <td>0</td>\n",
       "      <td>0</td>\n",
       "      <td>0</td>\n",
       "      <td>0</td>\n",
       "      <td>1.5000</td>\n",
       "      <td>0</td>\n",
       "      <td>0</td>\n",
       "      <td>0</td>\n",
       "      <td>...</td>\n",
       "      <td>0.0000</td>\n",
       "      <td>0.0</td>\n",
       "      <td>1.5000</td>\n",
       "      <td>0.0000</td>\n",
       "      <td>0.0</td>\n",
       "      <td>101.5000</td>\n",
       "      <td>0.0000</td>\n",
       "      <td>0</td>\n",
       "      <td>0.0000</td>\n",
       "      <td>0.0000</td>\n",
       "    </tr>\n",
       "    <tr>\n",
       "      <th>207977</th>\n",
       "      <td>0</td>\n",
       "      <td>0.0000</td>\n",
       "      <td>0</td>\n",
       "      <td>0</td>\n",
       "      <td>0</td>\n",
       "      <td>0</td>\n",
       "      <td>0.0000</td>\n",
       "      <td>0</td>\n",
       "      <td>0</td>\n",
       "      <td>0</td>\n",
       "      <td>...</td>\n",
       "      <td>0.0000</td>\n",
       "      <td>2.0</td>\n",
       "      <td>0.0000</td>\n",
       "      <td>0.0000</td>\n",
       "      <td>2.0</td>\n",
       "      <td>0.0000</td>\n",
       "      <td>0.0000</td>\n",
       "      <td>102</td>\n",
       "      <td>0.0000</td>\n",
       "      <td>0.0000</td>\n",
       "    </tr>\n",
       "    <tr>\n",
       "      <th>208020</th>\n",
       "      <td>0</td>\n",
       "      <td>0.0000</td>\n",
       "      <td>0</td>\n",
       "      <td>0</td>\n",
       "      <td>0</td>\n",
       "      <td>0</td>\n",
       "      <td>0.7500</td>\n",
       "      <td>0</td>\n",
       "      <td>0</td>\n",
       "      <td>0</td>\n",
       "      <td>...</td>\n",
       "      <td>0.0000</td>\n",
       "      <td>0.0</td>\n",
       "      <td>0.7500</td>\n",
       "      <td>0.0000</td>\n",
       "      <td>0.0</td>\n",
       "      <td>0.7500</td>\n",
       "      <td>0.0000</td>\n",
       "      <td>0</td>\n",
       "      <td>100.7500</td>\n",
       "      <td>0.0000</td>\n",
       "    </tr>\n",
       "    <tr>\n",
       "      <th>208019</th>\n",
       "      <td>0</td>\n",
       "      <td>0.0000</td>\n",
       "      <td>0</td>\n",
       "      <td>0</td>\n",
       "      <td>0</td>\n",
       "      <td>0</td>\n",
       "      <td>1.8125</td>\n",
       "      <td>0</td>\n",
       "      <td>0</td>\n",
       "      <td>0</td>\n",
       "      <td>...</td>\n",
       "      <td>0.0000</td>\n",
       "      <td>0.0</td>\n",
       "      <td>1.8125</td>\n",
       "      <td>0.0000</td>\n",
       "      <td>0.0</td>\n",
       "      <td>1.8125</td>\n",
       "      <td>0.0000</td>\n",
       "      <td>0</td>\n",
       "      <td>101.8125</td>\n",
       "      <td>0.0000</td>\n",
       "    </tr>\n",
       "    <tr>\n",
       "      <th>208062</th>\n",
       "      <td>0</td>\n",
       "      <td>0.0000</td>\n",
       "      <td>0</td>\n",
       "      <td>0</td>\n",
       "      <td>0</td>\n",
       "      <td>0</td>\n",
       "      <td>0.0000</td>\n",
       "      <td>0</td>\n",
       "      <td>0</td>\n",
       "      <td>0</td>\n",
       "      <td>...</td>\n",
       "      <td>1.8125</td>\n",
       "      <td>0.0</td>\n",
       "      <td>0.0000</td>\n",
       "      <td>1.8125</td>\n",
       "      <td>0.0</td>\n",
       "      <td>0.0000</td>\n",
       "      <td>1.8125</td>\n",
       "      <td>0</td>\n",
       "      <td>0.0000</td>\n",
       "      <td>101.8125</td>\n",
       "    </tr>\n",
       "  </tbody>\n",
       "</table>\n",
       "<p>437 rows × 392 columns</p>\n",
       "</div>"
      ],
      "text/plain": [
       "           2023-07-27  2023-07-31  2023-08-01  2023-08-03  2023-08-08  \\\n",
       "KYTREASNO                                                               \n",
       "207997            100      0.0000           0           0           0   \n",
       "207231              0    101.3750           0           0           0   \n",
       "207742              0    100.0625           0           0           0   \n",
       "206998              0    100.6250           0           0           0   \n",
       "208025              0      0.0000         100           0           0   \n",
       "...               ...         ...         ...         ...         ...   \n",
       "207934              0      0.0000           0           0           0   \n",
       "207977              0      0.0000           0           0           0   \n",
       "208020              0      0.0000           0           0           0   \n",
       "208019              0      0.0000           0           0           0   \n",
       "208062              0      0.0000           0           0           0   \n",
       "\n",
       "           2023-08-10  2023-08-15  2023-08-17  2023-08-22  2023-08-24  ...  \\\n",
       "KYTREASNO                                                              ...   \n",
       "207997              0      0.0000           0           0           0  ...   \n",
       "207231              0      0.0000           0           0           0  ...   \n",
       "207742              0      0.0000           0           0           0  ...   \n",
       "206998              0      0.0000           0           0           0  ...   \n",
       "208025              0      0.0000           0           0           0  ...   \n",
       "...               ...         ...         ...         ...         ...  ...   \n",
       "207934              0      1.5000           0           0           0  ...   \n",
       "207977              0      0.0000           0           0           0  ...   \n",
       "208020              0      0.7500           0           0           0  ...   \n",
       "208019              0      1.8125           0           0           0  ...   \n",
       "208062              0      0.0000           0           0           0  ...   \n",
       "\n",
       "           2051-09-15  2051-11-15  2052-02-15  2052-03-15  2052-05-15  \\\n",
       "KYTREASNO                                                               \n",
       "207997         0.0000         0.0      0.0000      0.0000         0.0   \n",
       "207231         0.0000         0.0      0.0000      0.0000         0.0   \n",
       "207742         0.0000         0.0      0.0000      0.0000         0.0   \n",
       "206998         0.0000         0.0      0.0000      0.0000         0.0   \n",
       "208025         0.0000         0.0      0.0000      0.0000         0.0   \n",
       "...               ...         ...         ...         ...         ...   \n",
       "207934         0.0000         0.0      1.5000      0.0000         0.0   \n",
       "207977         0.0000         2.0      0.0000      0.0000         2.0   \n",
       "208020         0.0000         0.0      0.7500      0.0000         0.0   \n",
       "208019         0.0000         0.0      1.8125      0.0000         0.0   \n",
       "208062         1.8125         0.0      0.0000      1.8125         0.0   \n",
       "\n",
       "           2052-08-15  2052-09-15  2052-11-15  2053-02-15  2053-03-15  \n",
       "KYTREASNO                                                              \n",
       "207997         0.0000      0.0000           0      0.0000      0.0000  \n",
       "207231         0.0000      0.0000           0      0.0000      0.0000  \n",
       "207742         0.0000      0.0000           0      0.0000      0.0000  \n",
       "206998         0.0000      0.0000           0      0.0000      0.0000  \n",
       "208025         0.0000      0.0000           0      0.0000      0.0000  \n",
       "...               ...         ...         ...         ...         ...  \n",
       "207934       101.5000      0.0000           0      0.0000      0.0000  \n",
       "207977         0.0000      0.0000         102      0.0000      0.0000  \n",
       "208020         0.7500      0.0000           0    100.7500      0.0000  \n",
       "208019         1.8125      0.0000           0    101.8125      0.0000  \n",
       "208062         0.0000      1.8125           0      0.0000    101.8125  \n",
       "\n",
       "[437 rows x 392 columns]"
      ]
     },
     "metadata": {},
     "output_type": "display_data"
    }
   ],
   "source": [
    "CF = calc_cashflows(rawdata)\n",
    "prices = metrics['price'][CF.index]\n",
    "\n",
    "CFset = {'all dates, including negative YTM quotes':CF}\n",
    "display(CF)"
   ]
  },
  {
   "cell_type": "code",
   "execution_count": 28,
   "id": "9f72b10f",
   "metadata": {},
   "outputs": [
    {
     "name": "stdout",
     "output_type": "stream",
     "text": [
      "which date has the most cashflow across all issues?\n"
     ]
    },
    {
     "data": {
      "text/plain": [
       "2023-08-15    524.5000\n",
       "2023-11-30    429.4375\n",
       "2025-02-15    417.2500\n",
       "2025-08-15    411.6875\n",
       "2026-02-15    405.6875\n",
       "                ...   \n",
       "2030-10-15      1.6875\n",
       "2031-04-15      1.6875\n",
       "2030-04-15      1.6875\n",
       "2031-10-15      1.6875\n",
       "2029-10-15      1.6875\n",
       "Length: 392, dtype: float64"
      ]
     },
     "execution_count": 28,
     "metadata": {},
     "output_type": "execute_result"
    }
   ],
   "source": [
    "print('which date has the most cashflow across all issues?')\n",
    "CF.sum().sort_values(ascending=False)"
   ]
  },
  {
   "cell_type": "code",
   "execution_count": 29,
   "id": "699a3e0d",
   "metadata": {},
   "outputs": [
    {
     "name": "stdout",
     "output_type": "stream",
     "text": [
      "which date has the most issues paying a cashflow?\n"
     ]
    },
    {
     "data": {
      "text/plain": [
       "2023-08-15    90\n",
       "2024-02-15    86\n",
       "2024-08-15    84\n",
       "2025-02-15    82\n",
       "2025-08-15    79\n",
       "              ..\n",
       "2024-02-22     1\n",
       "2024-01-25     1\n",
       "2024-01-18     1\n",
       "2024-01-11     1\n",
       "2053-03-15     1\n",
       "Length: 392, dtype: int64"
      ]
     },
     "execution_count": 29,
     "metadata": {},
     "output_type": "execute_result"
    }
   ],
   "source": [
    "print('which date has the most issues paying a cashflow?')\n",
    "CF.astype(bool).sum(axis=0).sort_values(ascending=False)"
   ]
  },
  {
   "cell_type": "markdown",
   "id": "4cbba202",
   "metadata": {},
   "source": [
    "## 2 Bootstrap\n",
    "\n",
    "Bootstrap the discount factors.\n",
    "\n",
    "Starting with $C$ from the previous problem, further filter to create a subset of Treasury issues cashflow matrix $\\tilde{C}$, such that each column has one, and only one, maturity. Also, each issue (row) has its face value payment in one of the columns.\n",
    "\n",
    "The three step procedure below might be useful.\n",
    "\n",
    "1. For dates with multiple bonds maturing, keep only that with the smallest bid-ask. If there are still multiple bonds maturing on the date, keep only that with the smallest coupon.\n",
    "\n",
    "2. Only keep the first $L$ columns of the cashflow matrix, such that every column has a bond maturing on that date.\n",
    "\n",
    "3. Eliminate any bonds, (rows,) that had maturity beyond column $L$.\n",
    "\n",
    "This should produce the cashflow matrix, $\\tilde{C}$.\n",
    "\n",
    "**Report 5 head and tail rows of $\\tilde{C}$.**\n",
    "\n",
    "Solve the system of equations\n",
    "$$\\textbf{p} = \\tilde{\\textbf{C}}\\, \\textbf{z}_{\\text{bootstrap}}$$\n",
    "\n",
    "**Plot the estimated discount factors, $\\textbf{z}$, against time-to-maturity.**"
   ]
  },
  {
   "cell_type": "code",
   "execution_count": 30,
   "id": "9c010d32",
   "metadata": {},
   "outputs": [
    {
     "data": {
      "image/png": "[encoded data removed]",
      "text/plain": [
       "<Figure size 864x432 with 1 Axes>"
      ]
     },
     "metadata": {
      "needs_background": "light"
     },
     "output_type": "display_data"
    }
   ],
   "source": [
    "MODEL = bootstrap\n",
    "\n",
    "RESTRICT_YLD = True\n",
    "RESTRICT_TIPS = True\n",
    "\n",
    "RESTRICT_DTS_MATURING = True\n",
    "RESTRICT_REDUNDANT = True\n",
    "\n",
    "data = filter_treasuries(rawdata, t_date=t_current, filter_yld = RESTRICT_YLD, filter_tips = RESTRICT_TIPS, drop_duplicate_maturities=RESTRICT_REDUNDANT)\n",
    "CF = filter_treasury_cashflows(calc_cashflows(data),filter_maturity_dates=RESTRICT_DTS_MATURING)\n",
    "\n",
    "prices = metrics['price'][CF.index]\n",
    "params_boot = estimate_rate_curve(MODEL,CF,t_current,prices)\n",
    "\n",
    "label = 'single maturity per date, no non-maturity dates'\n",
    "CFset[label] = CF\n",
    "\n",
    "plt.plot(params_boot[0],params_boot[1])\n",
    "plt.xlabel('maturity')\n",
    "plt.ylabel('discount factor')\n",
    "plt.title('Discount Curve: Bootstrap')\n",
    "plt.show()"
   ]
  },
  {
   "cell_type": "markdown",
   "id": "4afa361a",
   "metadata": {},
   "source": [
    "## 3. OLS\n",
    "\n",
    "Estimate the discount factors using OLS.\n",
    "\n",
    "Starting with the cashflow matrix, $C$, create an additional filter to get a subset where every date has at least one maturity, (possibly multiple,) and every issue has its maturity in the cashflow matrix. (You might do something similar to the three-step procedure of the bootstrap, but skip step #1.) Call this set of cashflows, $\\hat{C}$.\n",
    "\n",
    "**Report 5 head and tail rows of $\\hat{C}$.**\n",
    "\n",
    "$$\\textbf{p} = \\hat{\\textbf{C}}\\,\\textbf{z}_{\\text{ols}}+\\epsilon$$\n",
    "\n",
    "**Plot the discount factors against maturities.**"
   ]
  },
  {
   "cell_type": "code",
   "execution_count": 31,
   "id": "8b92a5d3",
   "metadata": {},
   "outputs": [
    {
     "data": {
      "image/png": "[encoded data removed]",
      "text/plain": [
       "<Figure size 864x432 with 1 Axes>"
      ]
     },
     "metadata": {
      "needs_background": "light"
     },
     "output_type": "display_data"
    }
   ],
   "source": [
    "MODEL = bootstrap\n",
    "\n",
    "RESTRICT_YLD = True\n",
    "RESTRICT_TIPS = True\n",
    "\n",
    "RESTRICT_DTS_MATURING = True\n",
    "RESTRICT_REDUNDANT = False\n",
    "\n",
    "data = filter_treasuries(rawdata, t_date=t_current, filter_yld = RESTRICT_YLD, filter_tips = RESTRICT_TIPS, drop_duplicate_maturities=RESTRICT_REDUNDANT)\n",
    "CF = filter_treasury_cashflows(calc_cashflows(data),filter_maturity_dates=RESTRICT_DTS_MATURING)\n",
    "\n",
    "prices = metrics['price'][CF.index]\n",
    "params_OLS = estimate_rate_curve(MODEL,CF,t_current,prices)\n",
    "\n",
    "label = 'no non-maturity dates'\n",
    "CFset[label] = CF\n",
    "\n",
    "disc_ols = pd.DataFrame({'maturity':params_OLS[0], 'ols': params_OLS[1]}).set_index('maturity')\n",
    "disc_ols.plot(marker='*',linestyle='--',ylabel='discount factor',title='Discount Curve: OLS')\n",
    "plt.show()"
   ]
  },
  {
   "cell_type": "markdown",
   "id": "a5c888f2",
   "metadata": {},
   "source": [
    "## 4 Factors and Rates\n",
    "\n",
    "Convert $\\textbf{z}_{\\text{bootstrap}}$ to a set of \n",
    "* continuous discount rates\n",
    "* semiannually compounded discount rates\n",
    "\n",
    "Do the same for $\\textbf{z}_{\\text{ols}}$.\n",
    "\n",
    "Plot the **continuous** discount rates generated via bootstrap and via OLS against time-to-maturity.\n",
    "\n",
    "Plot the **semiannually compounded** discount rates generated via bootstrap and via OLS against time-to-maturity."
   ]
  },
  {
   "cell_type": "markdown",
   "id": "af6ab1ba",
   "metadata": {},
   "source": [
    " **continuous discount rates**\n",
    "\n",
    "$$r(t,T) = -\\frac{\\ln\\left(Z(t,T)\\right)}{T-t}$$"
   ]
  },
  {
   "cell_type": "code",
   "execution_count": 32,
   "id": "613ad58e",
   "metadata": {},
   "outputs": [
    {
     "data": {
      "image/png": "[encoded data removed]",
      "text/plain": [
       "<Figure size 864x432 with 1 Axes>"
      ]
     },
     "metadata": {
      "needs_background": "light"
     },
     "output_type": "display_data"
    }
   ],
   "source": [
    "inc = .5\n",
    "\n",
    "maturity_grid = np.arange(inc,disc_ols.index.to_series().max()+.5,inc)\n",
    "curves_ols = pd.DataFrame(index = maturity_grid)\n",
    "curves_ols['bootstrap'] = bootstrap(params_boot,maturity_grid)\n",
    "curves_ols['ols'] = bootstrap(params_OLS,maturity_grid)\n",
    "\n",
    "ax = curves_ols.plot(linestyle='-',marker='*',ylabel='rate',xlabel='maturity',title='Spot Curve')\n",
    "plt.show()"
   ]
  },
  {
   "cell_type": "markdown",
   "id": "8585ca89",
   "metadata": {},
   "source": [
    "**semiannually compounded discount rates**\n",
    "\n",
    "$$\\displaystyle\\text{discount} \\equiv \\; Z(t,T) = \\frac{1}{\\left(1+\\frac{r_n}{n}\\right)^{n(T-t)}} \\; $$ where n=2"
   ]
  },
  {
   "cell_type": "code",
   "execution_count": 33,
   "id": "ba0a2f6a",
   "metadata": {},
   "outputs": [
    {
     "data": {
      "image/png": "[encoded data removed]",
      "text/plain": [
       "<Figure size 864x432 with 1 Axes>"
      ]
     },
     "metadata": {
      "needs_background": "light"
     },
     "output_type": "display_data"
    }
   ],
   "source": [
    "compound_base = None\n",
    "n = 2\n",
    "curves_ols_semi = compound_rate(curves_ols,compound_base,n)\n",
    "ax = curves_ols_semi.plot(linestyle='-',marker='*',ylabel='rate',xlabel='maturity',title='Spot Curve')\n",
    "plt.show()"
   ]
  },
  {
   "cell_type": "markdown",
   "id": "6555589c",
   "metadata": {},
   "source": [
    "***"
   ]
  },
  {
   "cell_type": "markdown",
   "id": "b13911f3",
   "metadata": {},
   "source": [
    "# Problem 3: Nelson-Siegel Curve"
   ]
  },
  {
   "cell_type": "markdown",
   "id": "3b199abd",
   "metadata": {},
   "source": [
    "Use the Nelson-Siegel curve to model the discount rates. \n",
    "\n",
    "Fit them via minimizing the sum of squared errors for the prices imputed by the model versus the quoted prices. \n",
    "\n",
    "Consider using `minimize` from `scipy.optimize`.\n",
    "\n",
    "* Estimate the model three times, using $\\textbf{C}$, $\\tilde{\\textbf{C}}$, $\\hat{\\textbf{C}}$.\n",
    "\n",
    "* Plot the estimated discount factors, $\\textbf{z}_{\\text{ns}}$ against time-to-maturity.\n",
    "\n",
    "* Also plot the associated continuously-compounded discount rates."
   ]
  },
  {
   "cell_type": "code",
   "execution_count": 34,
   "id": "b84cf1ce",
   "metadata": {},
   "outputs": [
    {
     "data": {
      "text/html": [
       "<div>\n",
       "<style scoped>\n",
       "    .dataframe tbody tr th:only-of-type {\n",
       "        vertical-align: middle;\n",
       "    }\n",
       "\n",
       "    .dataframe tbody tr th {\n",
       "        vertical-align: top;\n",
       "    }\n",
       "\n",
       "    .dataframe thead th {\n",
       "        text-align: right;\n",
       "    }\n",
       "</style>\n",
       "<table border=\"1\" class=\"dataframe\">\n",
       "  <thead>\n",
       "    <tr style=\"text-align: right;\">\n",
       "      <th></th>\n",
       "      <th>theta 0</th>\n",
       "      <th>theta 1</th>\n",
       "      <th>theta 2</th>\n",
       "      <th>lambda_1</th>\n",
       "      <th>theta_3</th>\n",
       "      <th>lambda_2</th>\n",
       "    </tr>\n",
       "  </thead>\n",
       "  <tbody>\n",
       "    <tr>\n",
       "      <th>Nelson-Siegel</th>\n",
       "      <td>0.020064</td>\n",
       "      <td>0.09779</td>\n",
       "      <td>0.09784</td>\n",
       "      <td>0.095789</td>\n",
       "      <td>None</td>\n",
       "      <td>None</td>\n",
       "    </tr>\n",
       "    <tr>\n",
       "      <th>Nelson-Siegel Extended</th>\n",
       "      <td>0.020064</td>\n",
       "      <td>0.09779</td>\n",
       "      <td>0.09784</td>\n",
       "      <td>0.095789</td>\n",
       "      <td>2.0</td>\n",
       "      <td>2.0</td>\n",
       "    </tr>\n",
       "  </tbody>\n",
       "</table>\n",
       "</div>"
      ],
      "text/plain": [
       "                         theta 0  theta 1  theta 2  lambda_1 theta_3 lambda_2\n",
       "Nelson-Siegel           0.020064  0.09779  0.09784  0.095789    None     None\n",
       "Nelson-Siegel Extended  0.020064  0.09779  0.09784  0.095789     2.0      2.0"
      ]
     },
     "execution_count": 34,
     "metadata": {},
     "output_type": "execute_result"
    }
   ],
   "source": [
    "prices = metrics['price'][CF.index]\n",
    "\n",
    "x0 = np.ones((1,4))/10\n",
    "params_NS = estimate_rate_curve(nelson_siegel,CF,t_current,prices,x0)\n",
    "\n",
    "x0 = np.concatenate((params_NS,(2,2)))\n",
    "params_NSE = estimate_rate_curve(nelson_siegel_extended,CF,t_current,prices,x0=x0)\n",
    "\n",
    "tab_params_ns = pd.DataFrame(data = params_NS, index=['theta 0', 'theta 1', 'theta 2', 'lambda_1'],columns=['Nelson-Siegel']).T\n",
    "tab_params_ns.loc[:,['theta_3', 'lambda_2']] = None\n",
    "tab_params_ns.loc['Nelson-Siegel Extended',:] = params_NSE\n",
    "tab_params_ns"
   ]
  },
  {
   "cell_type": "code",
   "execution_count": 35,
   "id": "ff5007d4",
   "metadata": {},
   "outputs": [],
   "source": [
    "RESTRICT_YLD = True\n",
    "RESTRICT_TIPS = True\n",
    "\n",
    "RESTRICT_DTS_MATURING = False\n",
    "RESTRICT_REDUNDANT = False\n",
    "\n",
    "data = filter_treasuries(rawdata, t_date=t_current, filter_yld = RESTRICT_YLD, filter_tips = RESTRICT_TIPS, drop_duplicate_maturities=RESTRICT_REDUNDANT)\n",
    "\n",
    "CF = filter_treasury_cashflows(calc_cashflows(data),filter_maturity_dates=RESTRICT_DTS_MATURING)\n",
    "CFset['all dates'] = CF\n",
    "\n",
    "prices = metrics['price'][CF.index]\n",
    "params_OLS_bad = estimate_rate_curve(MODEL,CF,t_current,prices)\n",
    "\n",
    "disc_ols_bad = pd.DataFrame({'maturity':params_OLS_bad[0], 'discount factor': params_OLS_bad[1]}).set_index('maturity')"
   ]
  },
  {
   "cell_type": "code",
   "execution_count": 36,
   "id": "347f3a95",
   "metadata": {},
   "outputs": [
    {
     "data": {
      "image/png": "[encoded data removed]",
      "text/plain": [
       "<Figure size 864x432 with 1 Axes>"
      ]
     },
     "metadata": {
      "needs_background": "light"
     },
     "output_type": "display_data"
    }
   ],
   "source": [
    "inc = .5\n",
    "\n",
    "maturity_list = get_maturity_delta(list(CFset.values())[-1].columns,t_current=t_current)\n",
    "maturity_grid = np.arange(inc,maturity_list.max()+.5,inc)\n",
    "curves = pd.DataFrame(index = maturity_grid)\n",
    "curves['nelson siegel'] = nelson_siegel(params_NS,maturity_grid)\n",
    "curves['ns-extended']= nelson_siegel_extended(params_NSE,maturity_grid)\n",
    "\n",
    "ax = curves_ols.plot(linestyle='-',marker='*')\n",
    "curves.plot(ax=ax, linestyle='-',marker='*', ylim=(0,1.1*curves.max().max()*1.1))\n",
    "\n",
    "series_plotted = list(curves_ols.columns) + list(curves.columns)\n",
    "plt.legend(series_plotted)\n",
    "plt.ylim(.035,.045)\n",
    "plt.xlabel('maturity')\n",
    "plt.ylabel('interest rate')\n",
    "plt.title('Spot Curve')\n",
    "plt.show()"
   ]
  },
  {
   "cell_type": "code",
   "execution_count": 37,
   "id": "1e3619eb",
   "metadata": {},
   "outputs": [
    {
     "data": {
      "image/png": "[encoded data removed]",
      "text/plain": [
       "<Figure size 864x432 with 1 Axes>"
      ]
     },
     "metadata": {
      "needs_background": "light"
     },
     "output_type": "display_data"
    }
   ],
   "source": [
    "ax = disc_ols.plot()\n",
    "\n",
    "zero_curve = intrate_to_discount(curves.loc[:,'nelson siegel'], maturity_grid, n_compound=None).to_frame()\n",
    "zero_curve['ns-extended'] = intrate_to_discount(curves.loc[:,'ns-extended'], maturity_grid, n_compound=None).to_frame()\n",
    "zero_curve.plot(ax=ax, title='Discount Curve', xlabel='maturity',ylabel='discount factor')\n",
    "\n",
    "plt.show()"
   ]
  },
  {
   "cell_type": "code",
   "execution_count": null,
   "id": "83cde6bb",
   "metadata": {},
   "outputs": [],
   "source": []
  }
 ],
 "metadata": {
  "hide_input": false,
  "kernelspec": {
   "display_name": "Python 3 (ipykernel)",
   "language": "python",
   "name": "python3"
  },
  "language_info": {
   "codemirror_mode": {
    "name": "ipython",
    "version": 3
   },
   "file_extension": ".py",
   "mimetype": "text/x-python",
   "name": "python",
   "nbconvert_exporter": "python",
   "pygments_lexer": "ipython3",
   "version": "3.9.12"
  },
  "toc": {
   "base_numbering": 1,
   "nav_menu": {},
   "number_sections": false,
   "sideBar": true,
   "skip_h1_title": false,
   "title_cell": "Table of Contents",
   "title_sidebar": "Contents",
   "toc_cell": false,
   "toc_position": {},
   "toc_section_display": true,
   "toc_window_display": false
  }
 },
 "nbformat": 4,
 "nbformat_minor": 5
}
