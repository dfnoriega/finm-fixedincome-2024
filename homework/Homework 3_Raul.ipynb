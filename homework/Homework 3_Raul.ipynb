{
 "cells": [
  {
   "cell_type": "markdown",
   "id": "414d51a3",
   "metadata": {},
   "source": [
    "# Homework 3\n",
    "\n",
    "## FINM 37400 - 2024\n",
    "\n",
    "### UChicago Financial Mathematics\n",
    "\n",
    "* Raul Renteria\n",
    "* rrenteria@uchicago.edu"
   ]
  },
  {
   "cell_type": "markdown",
   "id": "eb69aa93",
   "metadata": {},
   "source": [
    "# 1 HBS Case: Fixed-Income Arbitrage in a Financial Crisis (C): Spread and Swap Spread in November 2008"
   ]
  },
  {
   "cell_type": "markdown",
   "id": "a619a549",
   "metadata": {},
   "source": [
    "## Simplification of the setup\n",
    "\n",
    "The date is Nov 4, 2008.\n",
    "\n",
    "**Treasury bond**\n",
    "* Suppose the Treasury bond matures exactly 30 years later, on Nov 4, 2038 rather than May 15, 2008. \n",
    "* The YTM of this freshly issued treasury is 4.193\\% with a semiannual coupon of 4.50\\%, same as is given in the case. (So we're just changing the maturity date to simplify things, but keeping the market data.)\n",
    "\n",
    "**Swap**\n",
    "* The fixed leg of the swap pays semiannually, with swap rate of 4.2560\\%, as given in the case.\n",
    "* The floating leg of the swap also pays semiannually--not quarterly--such that the payment dates are identical on both legs. Thus, it also resets the floating rate semiannually, not quarterly.\n",
    "* The floating rate of the swap equals the repo rate used in the trade. Thus, these two rates cancel in the financing of the trade. (No need to consider the TED spread.) "
   ]
  },
  {
   "cell_type": "markdown",
   "id": "320c79f2",
   "metadata": {},
   "source": [
    "## Case Clarifications\n",
    "\n",
    "\n",
    "### Duration Quotes\n",
    "Bond\n",
    "* Quote: Val01 of bond is .1746 per bp per \\\\$1 face value\n",
    "* Class terminology: Modified dollar duration is .1746 per \\\\$100 face value\n",
    "\n",
    "Swap\n",
    "* Quote: DV01 of swap is 1.7mm per 1 billion notional.\n",
    "* Class terminology: Modified dollar duration is 100(1.7/1000) per \\\\$100 face value.\n",
    "\n",
    "Thus, modified dollar duration for each per 100 face is\n",
    "* Bond = .1746\n",
    "* Swap = .1700\n",
    "\n",
    "### Hedge Ratio\n",
    "\n",
    "In figuring out the hedge ratio, they set up the hedge per dollar of face value. \n",
    "\n",
    "    *so Mills would need to buy face amount \\\\$0.97 billion**\n",
    "    \n",
    "    No, this hedge should be for market value, not face amount given that the case is already using **modified** duration which includes the dirty price.\n",
    "\n",
    "### Maturity Mismatch\n",
    "\n",
    "The maturity of the bond is August 2038, whereas the date is Nov 2008. Thus, the bond has less than 30 years to maturity, yet he is entering a 30-year swap. \n",
    "\n",
    "For simplicity, we imagine the bond is issued in Nov 2008 and thus has maturity of 30 years at the time of the case.\n",
    "\n",
    "However, then the case quotes for the Nov price and YTM of the bond no longer are accurate. Use one and adjust the other. Namely, we could...\n",
    "    * use the Nov 4 **YTM** quoted in the case, and re-adjust the the bond.\n",
    "    * use the Nov 4 **price** quoted in the case, and re-adjust the YTM.\n",
    "    \n",
    "We do the former, keep the quoted YTM, assume time-to-maturity of `30`, and recalculate the Nov 2008 price. (It is close to the quoted price in the case.)"
   ]
  },
  {
   "cell_type": "code",
   "execution_count": 23,
   "outputs": [],
   "source": [
    "import pandas as pd\n",
    "import numpy as np\n",
    "import datetime\n",
    "import warnings\n",
    "\n",
    "from sklearn.linear_model import LinearRegression\n",
    "from scipy.optimize import minimize\n",
    "from scipy.optimize import fsolve\n",
    "\n",
    "import statsmodels.api as sm\n",
    "import matplotlib.pyplot as plt\n",
    "%matplotlib inline\n",
    "plt.rcParams['figure.figsize'] = (12,6)\n",
    "plt.rcParams['font.size'] = 15\n",
    "plt.rcParams['legend.fontsize'] = 13\n",
    "import warnings\n",
    "warnings.filterwarnings('ignore')"
   ],
   "metadata": {
    "collapsed": false,
    "ExecuteTime": {
     "end_time": "2024-01-23T00:48:14.961237690Z",
     "start_time": "2024-01-23T00:48:13.865517506Z"
    }
   },
   "id": "e6f44236fef1ab17"
  },
  {
   "cell_type": "markdown",
   "id": "4861f381",
   "metadata": {},
   "source": [
    "***"
   ]
  },
  {
   "cell_type": "markdown",
   "id": "d74740c1",
   "metadata": {},
   "source": [
    "## 1.0.\n",
    "\n",
    "Report the price of the 30-year T-bond in Nov 2008. Given the discussion about `Maturity Mismatch`, we are repricing the bond, so it will not exactly equal `105` as reported in the case."
   ]
  },
  {
   "cell_type": "code",
   "execution_count": 68,
   "outputs": [
    {
     "name": "stdout",
     "output_type": "stream",
     "text": [
      "The new price of the bond is: $105.21\n"
     ]
    }
   ],
   "source": [
    "import pandas as pd\n",
    "\n",
    "\n",
    "def calculate_bond_price(coupon_rate, years_to_maturity, yield_to_maturity, face_value=100, compounding_frequency=2):\n",
    "    \"\"\"\n",
    "    Calculate the price of a bond with custom compounding frequency.\n",
    "\n",
    "    Parameters:\n",
    "    - face_value: The face value of the bond.\n",
    "    - coupon_rate: The annual coupon rate (as a percentage).\n",
    "    - years_to_maturity: The number of years to maturity.\n",
    "    - yield_to_maturity: The yield to maturity (as a percentage).\n",
    "    - compounding_frequency: The number of compounding periods per year.\n",
    "\n",
    "    Returns:\n",
    "    The calculated price of the bond.\n",
    "    \"\"\"\n",
    "    #coupon_rate /= 100\n",
    "    #yield_to_maturity /= 100\n",
    "\n",
    "    periodic_coupon_rate = coupon_rate / compounding_frequency\n",
    "    periodic_yield = yield_to_maturity / compounding_frequency\n",
    "    periods = int(years_to_maturity * compounding_frequency)\n",
    "\n",
    "    pv_coupons = 0\n",
    "    for period in range(1, periods + 1):\n",
    "        pv_coupons += face_value * periodic_coupon_rate  / (1 + periodic_yield)**period\n",
    "\n",
    "    present_value_face_value = face_value / (1 + periodic_yield)**periods\n",
    "\n",
    "    bond_price = pv_coupons + present_value_face_value\n",
    "\n",
    "    return bond_price\n",
    "\n",
    "face_value = 100\n",
    "coupon_rate = 0.045\n",
    "years_to_maturity = 30\n",
    "yield_to_maturity = 0.04193\n",
    "swap_rate = 0.04256\n",
    "\n",
    "bond_price = calculate_bond_price(coupon_rate, years_to_maturity, yield_to_maturity)\n",
    "print(f\"The new price of the bond is: ${bond_price:.2f}\")"
   ],
   "metadata": {
    "collapsed": false,
    "ExecuteTime": {
     "end_time": "2024-01-23T03:24:02.030819672Z",
     "start_time": "2024-01-23T03:24:02.015395008Z"
    }
   },
   "id": "7130b0439a79ff5"
  },
  {
   "cell_type": "markdown",
   "id": "affe624a",
   "metadata": {},
   "source": [
    "## 1.1\n",
    "\n",
    "List the projected cashflows on May 4, 2009, exactly six months into the trade, on the first coupon and swap date."
   ]
  },
  {
   "cell_type": "code",
   "execution_count": 85,
   "outputs": [
    {
     "data": {
      "text/plain": "            T-bond   Swap  Total\n2009-05-04    2.25 -2.128  0.122",
      "text/html": "<div>\n<style scoped>\n    .dataframe tbody tr th:only-of-type {\n        vertical-align: middle;\n    }\n\n    .dataframe tbody tr th {\n        vertical-align: top;\n    }\n\n    .dataframe thead th {\n        text-align: right;\n    }\n</style>\n<table border=\"1\" class=\"dataframe\">\n  <thead>\n    <tr style=\"text-align: right;\">\n      <th></th>\n      <th>T-bond</th>\n      <th>Swap</th>\n      <th>Total</th>\n    </tr>\n  </thead>\n  <tbody>\n    <tr>\n      <th>2009-05-04</th>\n      <td>2.25</td>\n      <td>-2.128</td>\n      <td>0.122</td>\n    </tr>\n  </tbody>\n</table>\n</div>"
     },
     "execution_count": 85,
     "metadata": {},
     "output_type": "execute_result"
    }
   ],
   "source": [
    "cash_flows = pd.DataFrame(index=['2009-05-04'])\n",
    "cash_flows['T-bond'] = face_value * coupon_rate / 2\n",
    "cash_flows['Swap'] = -face_value * swap_rate / 2\n",
    "cash_flows['Total'] = cash_flows.sum(axis=1)\n",
    "cash_flows"
   ],
   "metadata": {
    "collapsed": false,
    "ExecuteTime": {
     "end_time": "2024-01-23T03:39:00.002929132Z",
     "start_time": "2024-01-23T03:38:59.988976290Z"
    }
   },
   "id": "a6a13cda55979ba8"
  },
  {
   "cell_type": "markdown",
   "source": [
    "Since the floating rate of the swap equals the repo rate used in the trade, these just cancel so we don't include them in the projected cashflows"
   ],
   "metadata": {
    "collapsed": false
   },
   "id": "dc2cb6afda56236"
  },
  {
   "cell_type": "markdown",
   "id": "491cd113",
   "metadata": {},
   "source": [
    "## 1.2\n",
    "\n",
    "What is the duration of...\n",
    "* the T-bond\n",
    "* the swap\n",
    "\n",
    "Remember that...\n",
    "* the swap can be decomposed into a fixed-rate bond and a floating-rate note\n",
    "* a floating-rate note has duration equal to the time until the next reset. Thus, at initialization, it has duration equal to 0.5 years.\n",
    "\n",
    "Is the duration for the \"paying-fixed\" swap positive or negative? Is it bigger or smaller in magnitude than the T-bond?\n",
    "\n",
    "For this problem, calculate the Macauley duration and the dollar (Macauley) duration."
   ]
  },
  {
   "cell_type": "code",
   "execution_count": 58,
   "outputs": [
    {
     "data": {
      "text/plain": "        Macauley duration  Dollar duration ($)\nT-bond          17.083633          1797.425100\nSwap            16.712744          1671.274445",
      "text/html": "<div>\n<style scoped>\n    .dataframe tbody tr th:only-of-type {\n        vertical-align: middle;\n    }\n\n    .dataframe tbody tr th {\n        vertical-align: top;\n    }\n\n    .dataframe thead th {\n        text-align: right;\n    }\n</style>\n<table border=\"1\" class=\"dataframe\">\n  <thead>\n    <tr style=\"text-align: right;\">\n      <th></th>\n      <th>Macauley duration</th>\n      <th>Dollar duration ($)</th>\n    </tr>\n  </thead>\n  <tbody>\n    <tr>\n      <th>T-bond</th>\n      <td>17.083633</td>\n      <td>1797.425100</td>\n    </tr>\n    <tr>\n      <th>Swap</th>\n      <td>16.712744</td>\n      <td>1671.274445</td>\n    </tr>\n  </tbody>\n</table>\n</div>"
     },
     "execution_count": 58,
     "metadata": {},
     "output_type": "execute_result"
    }
   ],
   "source": [
    "def calculate_duration(tau, ytm, coupon_rate, freq=2):\n",
    "    y_tilde = ytm / freq\n",
    "    c_tilde = coupon_rate / freq\n",
    "    tau_tilde = tau * freq\n",
    "        \n",
    "    if coupon_rate == ytm:\n",
    "        duration = (1 + y_tilde) / y_tilde  * (1 - 1 / (1 + y_tilde)**tau_tilde)\n",
    "        \n",
    "    else:\n",
    "        duration = (1 + y_tilde) / y_tilde - (1 + y_tilde + tau_tilde *(c_tilde - y_tilde)) / (c_tilde * ((1 + y_tilde)**tau_tilde - 1) + y_tilde)\n",
    "\n",
    "    duration *= 1 / freq\n",
    "    \n",
    "    return duration\n",
    "\n",
    "bond_duration = calculate_duration(30, yield_to_maturity, coupon_rate)\n",
    "fixed_rate_bond = calculate_duration(30, swap_rate, swap_rate)\n",
    "frn = 0.5\n",
    "swap_duration = fixed_rate_bond - frn\n",
    "\n",
    "durations = pd.DataFrame({'Macauley duration' : [bond_duration, swap_duration],\n",
    "                          'Dollar duration ($)' : [bond_duration * bond_price, swap_duration * face_value]},\n",
    "                         index=['T-bond', 'Swap'])\n",
    "durations"
   ],
   "metadata": {
    "collapsed": false,
    "ExecuteTime": {
     "end_time": "2024-01-23T02:58:09.975541087Z",
     "start_time": "2024-01-23T02:58:09.972129837Z"
    }
   },
   "id": "39e0269aa488b5e7"
  },
  {
   "cell_type": "markdown",
   "source": [
    "The duaration of the swap is positive, and it's smaller in magnitude than the T-bond"
   ],
   "metadata": {
    "collapsed": false
   },
   "id": "576b512114547700"
  },
  {
   "cell_type": "markdown",
   "id": "1b65c784",
   "metadata": {},
   "source": [
    "## 1.3\n",
    "\n",
    "What hedge ratio should be used to balance the notional size of the Treasury bond with the notional size of the swap, such that it is a duration-neutral position?\n",
    "\n",
    "Specifically, if the trader enters the swap paying fixed on \\$500 million notional, how large of a position should they take in the Treasury bond?"
   ]
  },
  {
   "cell_type": "markdown",
   "source": [
    "Using the equation from homework 2:\n",
    "$$n_j = -n_i\\frac{D_{\\$,i}}{D_{\\$,j}}$$"
   ],
   "metadata": {
    "collapsed": false
   },
   "id": "ff866b07632bcabf"
  },
  {
   "cell_type": "code",
   "execution_count": 96,
   "outputs": [
    {
     "name": "stdout",
     "output_type": "stream",
     "text": [
      " position size on the bond: 4418719\n"
     ]
    }
   ],
   "source": [
    "notional = 500e6\n",
    "hedge_ratio = (swap_duration * face_value) / (bond_duration * bond_price)\n",
    "bond_position_size = (notional * hedge_ratio) / bond_price\n",
    "print(f' position size on the bond: {round(bond_position_size)}') "
   ],
   "metadata": {
    "collapsed": false,
    "ExecuteTime": {
     "end_time": "2024-01-23T04:19:40.467023453Z",
     "start_time": "2024-01-23T04:19:40.462059313Z"
    }
   },
   "id": "94765d768155a290"
  },
  {
   "cell_type": "markdown",
   "id": "d6169a1e",
   "metadata": {},
   "source": [
    "## 1.4\n",
    "\n",
    "Suppose it is May 4, 2009, exactly six months after putting the trade on.\n",
    "\n",
    "The spread is at -28 bps due to...\n",
    "* The YTM on a new 30-year bond has risen to 4.36\\%\n",
    "* The swap rate on a new 30-year swap has dropped to 4.08\\%\n",
    "\n",
    "Explain conceptually how this movement impacts the components of the trade."
   ]
  },
  {
   "cell_type": "markdown",
   "source": [
    "- The rising YTM means the price of the bond decreases. This effects your funding as you used repo to fund this position with the 30 year T-bond as collateral.\n",
    "- Drop in the swap rate means LIBOR rates have gone down  "
   ],
   "metadata": {
    "collapsed": false
   },
   "id": "359e32cb31480d40"
  },
  {
   "cell_type": "markdown",
   "id": "f4ee2d28",
   "metadata": {},
   "source": [
    "500e6## 1.5\n",
    "\n",
    "Calculate the value of the position on May 4, 2009, immediately after the first coupon and swap payments and swap reset. \n",
    "\n",
    "* Calculate the revised price of the Treasury bond by assuming you can apply the (May 4) 30-year YTM as a discount rate to the 29.5 year bond. (We are just using this for a rough approximation. You know that good pricing would require a discount curve, but let's not get bogged down with that here.)\n",
    "\n",
    "\n",
    "* Calculate the value of the swap by decomposing it into a fixed-rate bond and a floating-rate bond.\n",
    "    * The 29.5 year fixed-rate leg is priced using the (May 4) 30-year swap rate as a discount rate.\n",
    "    * The floating-rate leg is priced at par given that floating-rate notes are par immediately after resets.\n",
    "    \n",
    "**Note**\n",
    "\n",
    "You are being asked to calculate these valuations using the exact formula between price, cashflows, and YTM discount rate. We are not simply approximating with duration, as we already know the position was set up with zero dollar duration.\n",
    "\n",
    "From the Discussion 1 notebook, we have this formula expressing a bond's price as a function of the coupon, $c$, and the YTM, $y_j$.\n",
    "\n",
    "$\\begin{align*}\n",
    "P_j(t,T,c) = \\sum_{i=1}^{n-1}\\frac{100\\left(\\frac{c}{2}\\right)}{\\left(1+\\frac{y_j}{2}\\right)^{2(T_i-t)}} + \\frac{100\\left(1+\\frac{c}{2}\\right)}{\\left(1+\\frac{y_j}{2}\\right)^{2(T-t)}}\n",
    "\\end{align*}\n",
    "$"
   ]
  },
  {
   "cell_type": "code",
   "execution_count": 176,
   "outputs": [
    {
     "data": {
      "text/plain": "            T-bond Price ($)  Swap Price ($)\n2009-05-04        102.311401        3.003349",
      "text/html": "<div>\n<style scoped>\n    .dataframe tbody tr th:only-of-type {\n        vertical-align: middle;\n    }\n\n    .dataframe tbody tr th {\n        vertical-align: top;\n    }\n\n    .dataframe thead th {\n        text-align: right;\n    }\n</style>\n<table border=\"1\" class=\"dataframe\">\n  <thead>\n    <tr style=\"text-align: right;\">\n      <th></th>\n      <th>T-bond Price ($)</th>\n      <th>Swap Price ($)</th>\n    </tr>\n  </thead>\n  <tbody>\n    <tr>\n      <th>2009-05-04</th>\n      <td>102.311401</td>\n      <td>3.003349</td>\n    </tr>\n  </tbody>\n</table>\n</div>"
     },
     "execution_count": 176,
     "metadata": {},
     "output_type": "execute_result"
    }
   ],
   "source": [
    "prices = pd.DataFrame(index=['2009-05-04'])\n",
    "prices['T-bond Price ($)'] = calculate_bond_price(coupon_rate, 29.5, 0.0436)\n",
    "prices['Swap Price ($)'] = calculate_bond_price(swap_rate, 29.5, 0.0408) - face_value\n",
    "prices"
   ],
   "metadata": {
    "collapsed": false,
    "ExecuteTime": {
     "end_time": "2024-01-23T04:43:44.525244339Z",
     "start_time": "2024-01-23T04:43:44.503905592Z"
    }
   },
   "id": "c8ad2b2ce7f47407"
  },
  {
   "cell_type": "markdown",
   "id": "f1bfb4e1",
   "metadata": {},
   "source": [
    "## 1.6\n",
    "\n",
    "Accounting for the change in value of the positions, as well as the 6-month cashflows paid on May 4, \n",
    "* what is the net profit and loss (pnl) of the position?\n",
    "* what is the return on the equity capital, considering that there was a 2\\% haircut (equity contribution) on the size of the initial treasury bond position."
   ]
  },
  {
   "cell_type": "code",
   "execution_count": 203,
   "outputs": [
    {
     "data": {
      "text/plain": "             Cash flows  Position Values           PnL\n(T-bond,)  9.942118e+06    -1.282260e+07 -2.880479e+06\n(Swap,)    1.064000e+07    -1.501675e+07 -4.376747e+06\nTotal      2.058212e+07    -2.783934e+07 -7.257226e+06",
      "text/html": "<div>\n<style scoped>\n    .dataframe tbody tr th:only-of-type {\n        vertical-align: middle;\n    }\n\n    .dataframe tbody tr th {\n        vertical-align: top;\n    }\n\n    .dataframe thead th {\n        text-align: right;\n    }\n</style>\n<table border=\"1\" class=\"dataframe\">\n  <thead>\n    <tr style=\"text-align: right;\">\n      <th></th>\n      <th>Cash flows</th>\n      <th>Position Values</th>\n      <th>PnL</th>\n    </tr>\n  </thead>\n  <tbody>\n    <tr>\n      <th>(T-bond,)</th>\n      <td>9.942118e+06</td>\n      <td>-1.282260e+07</td>\n      <td>-2.880479e+06</td>\n    </tr>\n    <tr>\n      <th>(Swap,)</th>\n      <td>1.064000e+07</td>\n      <td>-1.501675e+07</td>\n      <td>-4.376747e+06</td>\n    </tr>\n    <tr>\n      <th>Total</th>\n      <td>2.058212e+07</td>\n      <td>-2.783934e+07</td>\n      <td>-7.257226e+06</td>\n    </tr>\n  </tbody>\n</table>\n</div>"
     },
     "execution_count": 203,
     "metadata": {},
     "output_type": "execute_result"
    }
   ],
   "source": [
    "pnl_summary = pd.DataFrame(index=[['T-bond', 'Swap']], dtype=float)\n",
    "pnl_summary['Cash flows'] = (cash_flows[['T-bond', 'Swap']].values * [bond_position_size, -(notional / 100)]).T\n",
    "#pnl_summary['Position Values'] = ((prices.values - d.values)[0] * [bond_position_size, -(500e6 / 100)])\n",
    "pnl_summary.loc['Total'] = pnl_summary.sum()\n",
    "pnl_summary['PnL'] = pnl_summary.sum(axis=1)\n",
    "pnl_summary"
   ],
   "metadata": {
    "collapsed": false,
    "ExecuteTime": {
     "end_time": "2024-01-23T04:52:09.794921938Z",
     "start_time": "2024-01-23T04:52:09.727853224Z"
    }
   },
   "id": "ba10e7ae7a9ee9d1"
  },
  {
   "cell_type": "code",
   "execution_count": 197,
   "outputs": [
    {
     "data": {
      "text/plain": "array([ 2.90188107, -3.00334941])"
     },
     "execution_count": 197,
     "metadata": {},
     "output_type": "execute_result"
    }
   ],
   "source": [
    "d = pd.DataFrame(columns=prices.columns)\n",
    "d.loc['2008-11-04'] = [bond_price, 0]\n",
    "(d.values - prices.values)[0] "
   ],
   "metadata": {
    "collapsed": false,
    "ExecuteTime": {
     "end_time": "2024-01-23T04:50:05.134387737Z",
     "start_time": "2024-01-23T04:50:05.118628648Z"
    }
   },
   "id": "d2f5519d2994c1cf"
  },
  {
   "cell_type": "markdown",
   "id": "091b2092",
   "metadata": {},
   "source": [
    "***"
   ]
  },
  {
   "cell_type": "code",
   "execution_count": null,
   "outputs": [],
   "source": [],
   "metadata": {
    "collapsed": false
   },
   "id": "fa54f95ebb7a5d39"
  }
 ],
 "metadata": {
  "hide_input": false,
  "kernelspec": {
   "display_name": "Python 3 (ipykernel)",
   "language": "python",
   "name": "python3"
  },
  "language_info": {
   "codemirror_mode": {
    "name": "ipython",
    "version": 3
   },
   "file_extension": ".py",
   "mimetype": "text/x-python",
   "name": "python",
   "nbconvert_exporter": "python",
   "pygments_lexer": "ipython3",
   "version": "3.9.6"
  }
 },
 "nbformat": 4,
 "nbformat_minor": 5
}
