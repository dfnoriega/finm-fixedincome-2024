{
 "cells": [
  {
   "cell_type": "markdown",
   "id": "414d51a3",
   "metadata": {},
   "source": [
    "# Homework 3, Group B2\n",
    "\n",
    "## FINM 37400 - 2024\n",
    "\n",
    "### UChicago Financial Mathematics\n",
    "\n",
    "* Mark Hendricks\n",
    "* hendricks@uchicago.edu\n",
    "\n",
    "# Group B2"
   ]
  },
  {
   "cell_type": "markdown",
   "id": "eb69aa93",
   "metadata": {},
   "source": [
    "# 1 HBS Case: Fixed-Income Arbitrage in a Financial Crisis (C): Spread and Swap Spread in November 2008"
   ]
  },
  {
   "cell_type": "markdown",
   "id": "a619a549",
   "metadata": {},
   "source": [
    "## Simplification of the setup\n",
    "\n",
    "The date is Nov 4, 2008.\n",
    "\n",
    "**Treasury bond**\n",
    "* Suppose the Treasury bond matures exactly 30 years later, on Nov 4, 2038 rather than May 15, 2008. \n",
    "* The YTM of this freshly issued treasury is 4.193\\% with a semiannual coupon of 4.50\\%, same as is given in the case. (So we're just changing the maturity date to simplify things, but keeping the market data.)\n",
    "\n",
    "**Swap**\n",
    "* The fixed leg of the swap pays semiannually, with swap rate of 4.2560\\%, as given in the case.\n",
    "* The floating leg of the swap also pays semiannually--not quarterly--such that the payment dates are identical on both legs. Thus, it also resets the floating rate semiannually, not quarterly.\n",
    "* The floating rate of the swap equals the repo rate used in the trade. Thus, these two rates cancel in the financing of the trade. (No need to consider the TED spread.) "
   ]
  },
  {
   "cell_type": "markdown",
   "id": "320c79f2",
   "metadata": {},
   "source": [
    "## Case Clarifications\n",
    "\n",
    "\n",
    "### Duration Quotes\n",
    "Bond\n",
    "* Quote: Val01 of bond is .1746 per bp per \\\\$1 face value\n",
    "* Class terminology: Modified dollar duration is .1746 per \\\\$100 face value\n",
    "\n",
    "Swap\n",
    "* Quote: DV01 of swap is 1.7mm per 1 billion notional.\n",
    "* Class terminology: Modified dollar duration is 100(1.7/1000) per \\\\$100 face value.\n",
    "\n",
    "Thus, modified dollar duration for each per 100 face is\n",
    "* Bond = .1746\n",
    "* Swap = .1700\n",
    "\n",
    "### Hedge Ratio\n",
    "\n",
    "In figuring out the hedge ratio, they set up the hedge per dollar of face value. \n",
    "\n",
    "    *so Mills would need to buy face amount \\\\$0.97 billion**\n",
    "    \n",
    "    No, this hedge should be for market value, not face amount given that the case is already using **modified** duration which includes the dirty price.\n",
    "\n",
    "### Maturity Mismatch\n",
    "\n",
    "The maturity of the bond is August 2038, whereas the date is Nov 2008. Thus, the bond has less than 30 years to maturity, yet he is entering a 30-year swap. \n",
    "\n",
    "For simplicity, we imagine the bond is issued in Nov 2008 and thus has maturity of 30 years at the time of the case.\n",
    "\n",
    "However, then the case quotes for the Nov price and YTM of the bond no longer are accurate. Use one and adjust the other. Namely, we could...\n",
    "    * use the Nov 4 **YTM** quoted in the case, and re-adjust the the bond.\n",
    "    * use the Nov 4 **price** quoted in the case, and re-adjust the YTM.\n",
    "    \n",
    "We do the former, keep the quoted YTM, assume time-to-maturity of `30`, and recalculate the Nov 2008 price. (It is close to the quoted price in the case.)"
   ]
  },
  {
   "cell_type": "markdown",
   "id": "4861f381",
   "metadata": {},
   "source": [
    "***"
   ]
  },
  {
   "cell_type": "markdown",
   "id": "d82406de",
   "metadata": {},
   "source": [
    "##### Defining some functions we may use:"
   ]
  },
  {
   "cell_type": "code",
   "execution_count": 1,
   "id": "4e7fe1cf",
   "metadata": {},
   "outputs": [],
   "source": [
    "from scipy import optimize as opt\n",
    "\n",
    "def macDuration(ytm, c, ttm, freq=2):\n",
    "    # MacaulayDuration based on yield-to-maturity [absolute value], coupon [%], time-to-maturity [years] and frequency [periods per year]\n",
    "    tp=0\n",
    "    tt=((ttm*freq)-int(ttm*freq))/freq\n",
    "    tpp=0\n",
    "    if tt == 0:\n",
    "        tp-=c/freq\n",
    "    while tt < ttm:\n",
    "        tp+=(c/freq)*(1/((1+(ytm/freq))**(tt*freq)))\n",
    "        tpp+=tt*(c/freq)*(1/((1+(ytm/freq))**(tt*freq)))\n",
    "        tt+=1/freq\n",
    "    tp+=(100+(c/freq))*(1/((1+(ytm/freq))**(ttm*freq)))\n",
    "    tpp+=ttm*(100+(c/freq))*(1/((1+(ytm/freq))**(ttm*freq)))\n",
    "    return tpp/tp\n",
    "\n",
    "def get_price(yield_, maturity, coupon, freq=2):\n",
    "    # Price based on yield [absolute value], maturity [years], coupon [%], frequency [periods per year] and paid [True/False] (if coupon payment day, whether it was paid)\n",
    "    tp=0\n",
    "    tt=((maturity*freq)-int(maturity*freq))/freq\n",
    "    if tt == 0:\n",
    "        tp-=coupon/freq\n",
    "    while tt < maturity:\n",
    "        tp+=(coupon/freq)/(((1+(yield_/freq))**(freq*tt)))\n",
    "        tt+=1/freq\n",
    "    tp+=(100+(coupon/freq))/((1+(yield_/freq))**(maturity*freq))\n",
    "    return tp\n",
    "\n",
    "def get_yield(price, maturity, coupon, freq=2):\n",
    "    # Yield based on price [currency], maturity [years] and coupon [%]\n",
    "    def bond_price(yield_):\n",
    "        tp=0\n",
    "        tt=((maturity*freq)-int(maturity*freq))/freq\n",
    "        if tt == 0:\n",
    "            tp-=coupon/freq\n",
    "        while tt < maturity:\n",
    "            tp+=(coupon/freq)/(((1+(yield_/freq))**(freq*tt)))\n",
    "            tt+=1/freq\n",
    "        tp+=(100+(coupon/freq))/((1+(yield_/freq))**(maturity*freq))\n",
    "        return price-tp\n",
    "    return opt.root(bond_price, 0.02).x[0]/365.25"
   ]
  },
  {
   "cell_type": "markdown",
   "id": "d6adf7ca",
   "metadata": {},
   "source": [
    "***"
   ]
  },
  {
   "cell_type": "markdown",
   "id": "d74740c1",
   "metadata": {},
   "source": [
    "## 1.0.\n",
    "\n",
    "Report the price of the 30-year T-bond in Nov 2008. Given the discussion about `Maturity Mismatch`, we are repricing the bond, so it will not exactly equal `105` as reported in the case."
   ]
  },
  {
   "cell_type": "code",
   "execution_count": 2,
   "id": "8bf7ae00",
   "metadata": {},
   "outputs": [
    {
     "name": "stdout",
     "output_type": "stream",
     "text": [
      "USD\n",
      "The adjusted price of the bond is:  105.21\n"
     ]
    }
   ],
   "source": [
    "Bprice = get_price(0.04193, 30, 4.5, 2)\n",
    "print('USD')\n",
    "print('The adjusted price of the bond is: ', round(Bprice, 2))"
   ]
  },
  {
   "cell_type": "markdown",
   "id": "affe624a",
   "metadata": {},
   "source": [
    "## 1.1\n",
    "\n",
    "List the projected cashflows on May 4, 2009, exactly six months into the trade, on the first coupon and swap date."
   ]
  },
  {
   "cell_type": "markdown",
   "id": "6a79eee6",
   "metadata": {},
   "source": [
    "* Swap cashflows (before getting net):\n",
    "\n",
    "  * Fixed-rate payment (payer): -4.2560/2 = -2.128 ($ per $100 face value)\n",
    "    \n",
    "  * Floating-rate collection (receiver): repo rate/2 = r2 ($ per $100 face value) \n",
    "\n",
    "* Treasury bond cashflow:\n",
    "        \n",
    "  * Coupon (collection/receiver): 4.5/2 = 2.25 ($ per $100 face value)\n",
    "\n",
    "  * Financed through repo (payment): repo rate/2 = r2 ($ per $100 face value)\n"
   ]
  },
  {
   "cell_type": "markdown",
   "id": "491cd113",
   "metadata": {},
   "source": [
    "## 1.2\n",
    "\n",
    "What is the duration of...\n",
    "* the T-bond\n",
    "* the swap\n",
    "\n",
    "Remember that...\n",
    "* the swap can be decomposed into a fixed-rate bond and a floating-rate note\n",
    "* a floating-rate note has duration equal to the time until the next reset. Thus, at initialization, it has duration equal to 0.5 years.\n",
    "\n",
    "Is the duration for the \"paying-fixed\" swap positive or negative? Is it bigger or smaller in magnitude than the T-bond?\n",
    "\n",
    "For this problem, calculate the Macauley duration and the dollar (Macauley) duration."
   ]
  },
  {
   "cell_type": "code",
   "execution_count": 3,
   "id": "3c2eb0b1",
   "metadata": {},
   "outputs": [
    {
     "name": "stdout",
     "output_type": "stream",
     "text": [
      "Years\n",
      "The Macaulay duration of the bond is:  17.08\n"
     ]
    }
   ],
   "source": [
    "Bdur=macDuration(0.04193, 4.5, 30, 2)\n",
    "print('Years')\n",
    "print('The Macaulay duration of the bond is: ', round(Bdur, 2))"
   ]
  },
  {
   "cell_type": "code",
   "execution_count": 4,
   "id": "360b534b",
   "metadata": {},
   "outputs": [
    {
     "name": "stdout",
     "output_type": "stream",
     "text": [
      "Years\n",
      "The Macaulay duration of the swap is:  -16.71\n"
     ]
    }
   ],
   "source": [
    "Sdur=0.5-macDuration(get_yield(100,30,4.256)*365.25, 4.256, 30, 2)\n",
    "print('Years')\n",
    "print('The Macaulay duration of the swap is: ', round(Sdur, 2))"
   ]
  },
  {
   "cell_type": "markdown",
   "id": "ae4c3963",
   "metadata": {},
   "source": [
    "The duration of the paying-fixed-swap is negative. Similar to being short a fixed-bond (paying) and long a floating rate note (collecting). As a magnitude, the swap's duration is higher than the T-bond, indicating a higher sensitivity to changes in interest rates."
   ]
  },
  {
   "cell_type": "markdown",
   "id": "ce7704c4",
   "metadata": {},
   "source": [
    "The dollar durations are the following:"
   ]
  },
  {
   "cell_type": "code",
   "execution_count": 5,
   "id": "52f6fc3b",
   "metadata": {},
   "outputs": [
    {
     "name": "stdout",
     "output_type": "stream",
     "text": [
      "USD - years\n",
      "The dollar duration of the swap is:  -1671.27\n",
      "The dollar duration of the bond is:  1797.43\n"
     ]
    }
   ],
   "source": [
    "print('USD - years')\n",
    "print('The dollar duration of the swap is: ', round(Sdur*100, 2))\n",
    "print ('The dollar duration of the bond is: ', round(Bdur*Bprice, 2))"
   ]
  },
  {
   "cell_type": "markdown",
   "id": "1b65c784",
   "metadata": {},
   "source": [
    "## 1.3\n",
    "\n",
    "What hedge ratio should be used to balance the notional size of the Treasury bond with the notional size of the swap, such that it is a duration-neutral position?\n",
    "\n",
    "Specifically, if the trader enters the swap paying fixed on \\$500 million notional, how large of a position should they take in the Treasury bond?"
   ]
  },
  {
   "cell_type": "code",
   "execution_count": 6,
   "id": "24c8efdf",
   "metadata": {},
   "outputs": [
    {
     "name": "stdout",
     "output_type": "stream",
     "text": [
      "The number of bonds to hedge the swap is: [millions] 4.89\n",
      "The notional of the bonds to hedge the swap is:  514.65 million USD\n"
     ]
    }
   ],
   "source": [
    "nswap=500/100 #number of swaps, adjusting for millions\n",
    "nbond=-nswap*Sdur/Bdur #number of bonds\n",
    "print('The number of bonds to hedge the swap is: [millions]', round(nbond, 2)) #Adjusting for millions    \n",
    "print('The notional of the bonds to hedge the swap is: ', round(nbond*Bprice, 2), 'million USD')\n"
   ]
  },
  {
   "cell_type": "markdown",
   "id": "d6169a1e",
   "metadata": {},
   "source": [
    "## 1.4\n",
    "\n",
    "Suppose it is May 4, 2009, exactly six months after putting the trade on.\n",
    "\n",
    "The spread is at -28 bps due to...\n",
    "* The YTM on a new 30-year bond has risen to 4.36\\%\n",
    "* The swap rate on a new 30-year swap has dropped to 4.08\\%\n",
    "\n",
    "Explain conceptually how this movement impacts the components of the trade."
   ]
  },
  {
   "cell_type": "markdown",
   "id": "b18c2edf",
   "metadata": {},
   "source": [
    "**Conceptually:**\n",
    "\n",
    "The trade has lost value. An increase in the YTM on a new 30-year bond means that bonds have decreased in price. Conversely, a drop in the swap rate indicates that for individuals to value the trade's floating and fixed sides equally, the fixed side's price has decreased. \n",
    "\n",
    "Both movements are impacting the trade negatively:\n",
    "\n",
    "* The trade was placed long for the treasury bond at a higher price than today. (Bought too expensive)\n",
    "\n",
    "* Tre trade was placed paying-fixed for the swap at a higher rate than today. (Bought too expensive)\n",
    "\n",
    "The trade was betting on the bond's YTM decreasing relative to the swap rate, contrary to what would have occurred in this hypothetical scenario to reach the conditions described for May 4, 2009."
   ]
  },
  {
   "cell_type": "markdown",
   "id": "f4ee2d28",
   "metadata": {},
   "source": [
    "## 1.5\n",
    "\n",
    "Calculate the value of the position on May 4, 2009, immediately after the first coupon and swap payments and swap reset. \n",
    "\n",
    "* Calculate the revised price of the Treasury bond by assuming you can apply the (May 4) 30-year YTM as a discount rate to the 29.5 year bond. (We are just using this for a rough approximation. You know that good pricing would require a discount curve, but let's not get bogged down with that here.)\n",
    "\n",
    "\n",
    "* Calculate the value of the swap by decomposing it into a fixed-rate bond and a floating-rate bond.\n",
    "    * The 29.5 year fixed-rate leg is priced using the (May 4) 30-year swap rate as a discount rate.\n",
    "    * The floating-rate leg is priced at par given that floating-rate notes are par immediately after resets.\n",
    "    \n",
    "**Note**\n",
    "\n",
    "You are being asked to calculate these valuations using the exact formula between price, cashflows, and YTM discount rate. We are not simply approximating with duration, as we already know the position was set up with zero dollar duration.\n",
    "\n",
    "From the Discussion 1 notebook, we have this formula expressing a bond's price as a function of the coupon, $c$, and the YTM, $y_j$.\n",
    "\n",
    "$\\begin{align}\n",
    "P_j(t,T,c) = \\sum_{i=1}^{n-1}\\frac{100\\left(\\frac{c}{2}\\right)}{\\left(1+\\frac{y_j}{2}\\right)^{2(T_i-t)}} + \\frac{100\\left(1+\\frac{c}{2}\\right)}{\\left(1+\\frac{y_j}{2}\\right)^{2(T-t)}}\n",
    "\\end{align}\n",
    "$"
   ]
  },
  {
   "cell_type": "code",
   "execution_count": 7,
   "id": "aa310669",
   "metadata": {},
   "outputs": [
    {
     "name": "stdout",
     "output_type": "stream",
     "text": [
      "On May 4th, 2009. Under assumptions described above: \n",
      "\n",
      "Bonds are now priced at : 102.31 USD.\n",
      "The treasury position is valued at:  500.45 million USD. For a loss of : -14.19 million USD.\n",
      "\n",
      "Swaps are now priced at : -3.0 USD.\n",
      "The swap position is valued at:  -15.02 million USD. For a loss of : -15.02 million USD.\n",
      "\n",
      "The value of the position is now:  485.43 million USD. For a net value loss of : -29.21 million USD.\n"
     ]
    }
   ],
   "source": [
    "Bprice_new=get_price(0.0436, 29.5, 4.5, 2)\n",
    "Sprice=100 - get_price(0.0408, 29.5, 4.256, 2)\n",
    "print('On May 4th, 2009. Under assumptions described above: \\n')\n",
    "print('Bonds are now priced at :', round(Bprice_new, 2), 'USD.')\n",
    "print('The treasury position is valued at: ', round(Bprice_new*nbond, 2), 'million USD. For a loss of :', round((Bprice_new-Bprice)*nbond, 2), 'million USD.\\n')\n",
    "print('Swaps are now priced at :', round(Sprice, 2), 'USD.')\n",
    "print('The swap position is valued at: ', round(Sprice*nswap, 2), 'million USD. For a loss of :', round((Sprice)*nswap, 2), 'million USD.\\n')\n",
    "print('The value of the position is now: ', round((Bprice_new*nbond)+(Sprice*nswap), 2), 'million USD. For a net value loss of :', round((Bprice_new-Bprice)*nbond + Sprice*nswap, 2), 'million USD.')"
   ]
  },
  {
   "cell_type": "markdown",
   "id": "f1bfb4e1",
   "metadata": {},
   "source": [
    "## 1.6\n",
    "\n",
    "Accounting for the change in value of the positions, as well as the 6-month cashflows paid on May 4, \n",
    "* what is the net profit and loss (pnl) of the position?\n",
    "* what is the return on the equity capital, considering that there was a 2\\% haircut (equity contribution) on the size of the initial treasury bond position."
   ]
  },
  {
   "cell_type": "code",
   "execution_count": 8,
   "id": "0ab0175a",
   "metadata": {},
   "outputs": [],
   "source": [
    "vchange=((Bprice_new-Bprice)*nbond) + (Sprice*nswap)\n",
    "cf=(nbond*4.5/2)-(nswap*4.256/2)"
   ]
  },
  {
   "cell_type": "code",
   "execution_count": 9,
   "id": "7013cea4",
   "metadata": {},
   "outputs": [
    {
     "data": {
      "text/markdown": [
       "\n",
       "### Financial Position Analysis as of May 4th, 2009\n",
       "\n",
       "Given the assumptions described previously, if entering the position for a notional swap value of $500 million USD:\n",
       "\n",
       "- The value-change in the position is: **-29.21** million USD.\n",
       "- The net cash-flow for the position is **0.37** million USD. (+):\n",
       "  - Coupon for the bond (collection/receiver): 11.01 million USD.\n",
       "  - Coupon for the swap (payment/payer): -10.64 million USD.\\\n",
       "    _Note: There is a difference in the notional values of the swaps and the value of the bonds. The repo rates (received-swap, paid-bond) are not exactly offsetting each other. However, disregarding this for now._\n",
       "\n",
       "\n",
       "\n",
       "The net profit and loss (PnL) of the position is **-28.85** million USD.\n",
       "\n",
       "The capital invested is (assuming a 2% haircut): 10.29 million USD.\\\n",
       "The **return on the capital invested** is _**-280.25%.**_\n"
      ],
      "text/plain": [
       "<IPython.core.display.Markdown object>"
      ]
     },
     "metadata": {},
     "output_type": "display_data"
    }
   ],
   "source": [
    "#Backup print further below in case you encountered any issue runnng this cell\n",
    "from IPython.display import display, Markdown\n",
    "\n",
    "markdown_text = f\"\"\"\n",
    "### Financial Position Analysis as of May 4th, 2009\n",
    "\n",
    "Given the assumptions described previously, if entering the position for a notional swap value of $500 million USD:\n",
    "\n",
    "- The value-change in the position is: **{round(vchange, 2)}** million USD.\n",
    "- The net cash-flow for the position is **{round(cf, 2)}** million USD. (+):\n",
    "  - Coupon for the bond (collection/receiver): {round(nbond*4.5/2, 2)} million USD.\n",
    "  - Coupon for the swap (payment/payer): {-nswap*4.256/2} million USD.\\\\\n",
    "    _Note: There is a difference in the notional values of the swaps and the value of the bonds. The repo rates (received-swap, paid-bond) are not exactly offsetting each other. However, disregarding this for now._\n",
    "\n",
    "\n",
    "\n",
    "The net profit and loss (PnL) of the position is **{round(vchange + cf, 2)}** million USD.\n",
    "\n",
    "The capital invested is (assuming a 2% haircut): {round(nbond*Bprice*0.02, 2)} million USD.\\\\\n",
    "The **return on the capital invested** is _**{round(100*(vchange + cf)/(nbond*Bprice*0.02), 2)}%.**_\n",
    "\"\"\"\n",
    "\n",
    "display(Markdown(markdown_text))\n"
   ]
  },
  {
   "cell_type": "markdown",
   "id": "091b2092",
   "metadata": {},
   "source": [
    "***"
   ]
  },
  {
   "cell_type": "markdown",
   "id": "369612a3",
   "metadata": {},
   "source": [
    "***"
   ]
  },
  {
   "cell_type": "markdown",
   "id": "58dade52",
   "metadata": {},
   "source": [
    "***"
   ]
  },
  {
   "cell_type": "markdown",
   "id": "97da0a49",
   "metadata": {},
   "source": [
    "*In case for any reason you couldn't see the cell above, 1.6. Same figures*"
   ]
  },
  {
   "cell_type": "code",
   "execution_count": 10,
   "id": "b6dbabf4",
   "metadata": {},
   "outputs": [
    {
     "name": "stdout",
     "output_type": "stream",
     "text": [
      "On May 4th, 2009. Under assumptions described above: \n",
      "Notional swap value of 500 million USD: \n",
      "\n",
      "The value-change in the position is:  -29.21 million USD.\n",
      "\n",
      "The cash-flows for the position are: \n",
      "Coupon for the bond (collection/receiver):  11.01 million USD.\n",
      "Coupon for the swap (payment/payer):  -10.64 million USD.\n",
      "     *** assuming swap collection and treasury repo offset (see note below)\n",
      "Net cash-flow:  0.37 million USD.\n",
      " \n",
      "\n",
      "The net pnl of the position is:  -28.85 million USD.\n",
      "\n",
      "The capital invested is (assuming a 2% haircut):  10.29 million USD.\n",
      "The return on the capital invested is:  -280.25 %\n"
     ]
    }
   ],
   "source": [
    "print('On May 4th, 2009. Under assumptions described above: ')\n",
    "print('Notional swap value of 500 million USD: \\n')\n",
    "\n",
    "\n",
    "print('The value-change in the position is: ', round(vchange, 2), 'million USD.\\n')\n",
    "print('The cash-flows for the position are: ')\n",
    "print('Coupon for the bond (collection/receiver): ', round(nbond*4.5/2, 2),'million USD.')\n",
    "print('Coupon for the swap (payment/payer): ', -nswap*4.256/2,'million USD.')\n",
    "print('     *** assuming swap collection and treasury repo offset (see note below)')\n",
    "\n",
    "print('Net cash-flow: ', round(cf, 2),'million USD.\\n \\n')\n",
    "\n",
    "\n",
    "\n",
    "print('The net pnl of the position is: ', round(vchange + cf, 2) , 'million USD.\\n')\n",
    "\n",
    "print('The capital invested is (assuming a 2% haircut): ', round(nbond*Bprice*0.02, 2), 'million USD.')\n",
    "print('The return on the capital invested is: ', round(100*(vchange + cf)/(nbond*Bprice*0.02), 2),'%')"
   ]
  },
  {
   "cell_type": "markdown",
   "id": "3d7e93b0",
   "metadata": {},
   "source": [
    "There is a difference in the notional values of the swaps and the bonds. The repo rates (received-swap, paid-bond) are not exactly offseting each other. \n",
    "However, disregarding this for now."
   ]
  },
  {
   "cell_type": "markdown",
   "id": "31087f31",
   "metadata": {},
   "source": []
  }
 ],
 "metadata": {
  "hide_input": false,
  "kernelspec": {
   "display_name": "Python 3 (ipykernel)",
   "language": "python",
   "name": "python3"
  },
  "language_info": {
   "codemirror_mode": {
    "name": "ipython",
    "version": 3
   },
   "file_extension": ".py",
   "mimetype": "text/x-python",
   "name": "python",
   "nbconvert_exporter": "python",
   "pygments_lexer": "ipython3",
   "version": "3.11.5"
  }
 },
 "nbformat": 4,
 "nbformat_minor": 5
}
