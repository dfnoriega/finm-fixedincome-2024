{
 "cells": [
  {
   "cell_type": "markdown",
   "metadata": {
    "jp-MarkdownHeadingCollapsed": true,
    "tags": []
   },
   "source": [
    "# Final Exam\n",
    "\n",
    "## FINM 37400 - 2024\n",
    "\n",
    "### UChicago Financial Mathematics\n",
    "\n",
    "* Mark Hendricks\n",
    "* hendricks@uchicago.edu"
   ]
  },
  {
   "cell_type": "markdown",
   "metadata": {},
   "source": [
    "***"
   ]
  },
  {
   "cell_type": "markdown",
   "metadata": {},
   "source": [
    "# Instructions"
   ]
  },
  {
   "cell_type": "markdown",
   "metadata": {},
   "source": [
    "## Please note the following:\n",
    "\n",
    "Time\n",
    "* You have 180 minutes to complete the exam.\n",
    "* For every minute late you submit the exam, you will lose one point.\n",
    "\n",
    "Submission\n",
    "* You will upload your solution to the Final Exam assignment on Canvas.\n",
    "* Your submission should be readable, (the graders can understand your answers,) and it should include all code used in your analysis in a file format that the code can be executed. (ie. .ipynb preferred, .pdf is unacceptable.)\n",
    "\n",
    "Rules\n",
    "* The exam is open-material, closed-communication.\n",
    "* You do not need to cite material from the course github repo--you are welcome to use the code posted there without citation, (only for this exam.)\n",
    "\n",
    "Advice\n",
    "* If you find any question to be unclear, state your interpretation and proceed. We will only answer questions of interpretation if there is a typo, error, etc.\n",
    "* The exam will be graded for partial credit."
   ]
  },
  {
   "cell_type": "markdown",
   "metadata": {},
   "source": [
    "## Data\n",
    "\n",
    "**All data files are found in the class github repo, in the `data` folder.**\n",
    "\n",
    "This exam makes use of the following data files:\n",
    "\n",
    "#### Section 2\n",
    "* New file: `select_maturities_2017-02-07.xlsx`\n",
    "\n",
    "#### Section 3\n",
    "* Familiar file: `famabliss_strips_2023-12-29.xlsx`"
   ]
  },
  {
   "cell_type": "markdown",
   "metadata": {},
   "source": [
    "## Scoring\n",
    "\n",
    "| Problem | Points |\n",
    "|---------|--------|\n",
    "| 1       | 25     |\n",
    "| 2       | 45     |\n",
    "| 3       | 60     |\n",
    "| 4       | 35     |\n",
    "| **Total**   | **165**|"
   ]
  },
  {
   "cell_type": "code",
   "execution_count": 1,
   "metadata": {},
   "outputs": [],
   "source": [
    "#Necessary functions and imports\n",
    "\n",
    "from scipy import optimize as opt\n",
    "import pandas as pd\n",
    "import numpy as np\n",
    "import seaborn as sns\n",
    "from matplotlib import pyplot as plt\n",
    "from sklearn.linear_model import LinearRegression\n",
    "\n",
    "\n",
    "def continuous_from_discount(discount, maturity):\n",
    "    '''Returns the continuous rate from the discount factor and the maturity'''\n",
    "    return -np.log(discount)/maturity\n",
    "\n",
    "def compounded_from_discount(discount, maturity, freq=2):\n",
    "    '''Returns the compounded rate from the discount factor and the maturity'''\n",
    "    return ((1/discount)**(1/(maturity*freq))-1)*freq\n",
    "\n",
    "def discount_from_continuous(continuous, maturity):\n",
    "    '''Returns the discount factor from the continuous rate and the maturity'''\n",
    "    return np.exp(-continuous*maturity)\n",
    "\n",
    "def discount_from_compounded(compounded, maturity, freq=2):\n",
    "    '''Returns the discount factor from the compounded rate and the maturity'''\n",
    "    return (1+compounded/freq)**(-maturity*freq)\n",
    "\n",
    "def BootstrapData(df, maturities='maturity date', bid='bid', ask='ask'):\n",
    "    '''Returns a dataframe with the minimum bid-ask spread for each bond maturity in the dataset.\n",
    "    Specify maturity date column, bid column and ask column as strings.'''\n",
    "    dates = df[maturities].unique()\n",
    "    dates=pd.to_datetime(dates)\n",
    "    df['bas']=(df[bid]+df[ask])\n",
    "    tdf=pd.DataFrame(columns=df.columns)\n",
    "    for i in dates:\n",
    "        dfi = df[df[maturities]==i].copy()\n",
    "        idx = dfi['bas'].idxmin()\n",
    "        tdf.loc[len(tdf)] = dfi.loc[idx]\n",
    "    tdf.drop(columns=['bas'], inplace=True)\n",
    "    return tdf\n",
    "\n",
    "def C_matrix(fdf, date, maturity_col, id_col, coupon_col, freq):\n",
    "    '''Returns a dataframe with the cash flows of each bond in the dataset. Rounds to end of the month\n",
    "    if less than 5 days away.\n",
    "    date: string with to calculate cash flows from. Format: 'YYYY-MM-DD'\n",
    "    maturity_col: string with the name of the column with the maturity date\n",
    "    id_col: string with the name of the column with the bond id\n",
    "    coupon_col: string with the name of the column with the coupon rate\n",
    "    freq: integer with the number of coupon payments per year\n",
    "    fdf: dataframe with the bond data'''\n",
    "    tCdf = []\n",
    "    for i in range(len(fdf)):\n",
    "        row_data = {}\n",
    "        crspid = fdf.iloc[i][id_col]\n",
    "        maturity = pd.to_datetime(fdf.iloc[i][maturity_col]).strftime('%Y-%m-%d')\n",
    "        coupon = fdf.iloc[i][coupon_col]\n",
    "        row_data[id_col] = crspid\n",
    "        row_data[(pd.to_datetime(maturity)+pd.offsets.MonthEnd(0)).strftime('%Y-%m-%d')] = 100 + (coupon / freq)\n",
    "        maturity = pd.to_datetime(maturity) - pd.DateOffset(months=int(12/freq))\n",
    "        while maturity > pd.to_datetime(date):\n",
    "            tmat = maturity\n",
    "            if pd.to_datetime(maturity).day > pd.to_datetime(maturity+pd.offsets.MonthEnd(0)).day-20:\n",
    "                tmat = tmat + pd.offsets.MonthEnd(0)\n",
    "            row_data[tmat.strftime('%Y-%m-%d')] = coupon / freq\n",
    "            maturity = maturity - pd.DateOffset(months=int(12/freq))\n",
    "        tCdf.append(row_data)\n",
    "    return pd.DataFrame(tCdf).set_index(id_col,drop=True).sort_index(axis=1).fillna(0)\n",
    "\n",
    "def macDuration(ytm, c, ttm, freq=2):\n",
    "    ''' MacaulayDuration based on yield-to-maturity [absolute value], coupon [%], \n",
    "    time-to-maturity [years] and frequency [periods per year]'''\n",
    "    tp=0\n",
    "    tt=((ttm*freq)-int(ttm*freq))/freq\n",
    "    tpp=0\n",
    "    if tt == 0:\n",
    "        tp-=c/freq\n",
    "    while tt < ttm:\n",
    "        tp+=(c/freq)*(1/((1+(ytm/freq))**(tt*freq)))\n",
    "        tpp+=tt*(c/freq)*(1/((1+(ytm/freq))**(tt*freq)))\n",
    "        tt+=1/freq\n",
    "    tp+=(100+(c/freq))*(1/((1+(ytm/freq))**(ttm*freq)))\n",
    "    tpp+=ttm*(100+(c/freq))*(1/((1+(ytm/freq))**(ttm*freq)))\n",
    "    return tpp/tp\n",
    "\n",
    "def get_price(yield_, maturity, coupon, freq=2):\n",
    "    '''Price based on yield [absolute value], maturity [years], coupon [%], \n",
    "    and frequency [periods per year]'''\n",
    "    tp=0\n",
    "    tt=((maturity*freq)-int(maturity*freq))/freq\n",
    "    if tt == 0:\n",
    "        tp-=coupon/freq\n",
    "    while tt < maturity:\n",
    "        tp+=(coupon/freq)/(((1+(yield_/freq))**(freq*tt)))\n",
    "        tt+=1/freq\n",
    "    tp+=(100+(coupon/freq))/((1+(yield_/freq))**(maturity*freq))\n",
    "    return tp\n",
    "\n",
    "def get_yield(price, maturity, coupon, freq=2):\n",
    "    '''Yield based on price [currency], maturity [years] and coupon [%]'''\n",
    "    def bond_price(yield_):\n",
    "        tp=0\n",
    "        tt=((maturity*freq)-int(maturity*freq))/freq\n",
    "        if tt == 0:\n",
    "            tp-=coupon/freq\n",
    "        while tt < maturity:\n",
    "            tp+=(coupon/freq)/(((1+(yield_/freq))**(freq*tt)))\n",
    "            tt+=1/freq\n",
    "        tp+=(100+(coupon/freq))/((1+(yield_/freq))**(maturity*freq))\n",
    "        return price-tp\n",
    "    return opt.root(bond_price, 0.02).x[0]/365.25\n",
    "\n",
    "def estimate_ns(*args):\n",
    "    '''Make sure first argument is the C matrix (columns are times and rows are issues) and the second argument is a dataframe with a \"price\" column and same index.\n",
    "    Results are called through the .x attribute of the returned object. 0 is t0, 1 is t1, 2 is t2, and 3 is lambda.'''\n",
    "    def estimate_ns(params, *args):\n",
    "        M, tba = args[0], args[1]\n",
    "        t0, t1, t2, lam = params[0], params[1], params[2], params[3]\n",
    "        tM=M.copy()\n",
    "        times=tM.columns\n",
    "        times=(pd.to_datetime(times)-pd.to_datetime('2023-07-23')).days/365.25\n",
    "        tM.columns=times\n",
    "        error=0\n",
    "        for i in tM.index:\n",
    "            price=0\n",
    "            tM.loc[i][tM.loc[i]>0].index\n",
    "            for ii in tM.loc[i][tM.loc[i]>0].index:\n",
    "                rate=t0+((t1+t2)*((1-np.exp(-ii/lam))/(ii/lam)))-t2*np.exp(-ii/lam)\n",
    "                price+=tM.loc[i,ii]*np.exp(-rate*ii)\n",
    "            error+=(price-tba.loc[i,'price'])**2\n",
    "        return error\n",
    "    return opt.minimize(estimate_ns, [0.01, 0.01, 0.01, 1], args=(args), method='L-BFGS-B')"
   ]
  },
  {
   "cell_type": "markdown",
   "metadata": {},
   "source": [
    "***"
   ]
  },
  {
   "cell_type": "markdown",
   "metadata": {},
   "source": [
    "# 1. Long-Short Trades"
   ]
  },
  {
   "cell_type": "markdown",
   "metadata": {},
   "source": [
    "Consider the following market data as of `Dec 29, 2023`.\n",
    "\n",
    "The table below shows two Treasury securities, a T-note and a T-bond. They mature on the same date."
   ]
  },
  {
   "cell_type": "code",
   "execution_count": 2,
   "metadata": {},
   "outputs": [
    {
     "data": {
      "text/html": [
       "<div>\n",
       "<style scoped>\n",
       "    .dataframe tbody tr th:only-of-type {\n",
       "        vertical-align: middle;\n",
       "    }\n",
       "\n",
       "    .dataframe tbody tr th {\n",
       "        vertical-align: top;\n",
       "    }\n",
       "\n",
       "    .dataframe thead th {\n",
       "        text-align: right;\n",
       "    }\n",
       "</style>\n",
       "<table border=\"1\" class=\"dataframe\">\n",
       "  <thead>\n",
       "    <tr style=\"text-align: right;\">\n",
       "      <th></th>\n",
       "      <th>207391</th>\n",
       "      <th>204095</th>\n",
       "    </tr>\n",
       "  </thead>\n",
       "  <tbody>\n",
       "    <tr>\n",
       "      <th>issue date</th>\n",
       "      <td>2019-08-15</td>\n",
       "      <td>1999-08-15</td>\n",
       "    </tr>\n",
       "    <tr>\n",
       "      <th>maturity date</th>\n",
       "      <td>2029-08-15</td>\n",
       "      <td>2029-08-15</td>\n",
       "    </tr>\n",
       "    <tr>\n",
       "      <th>coupon rate</th>\n",
       "      <td>0.01625</td>\n",
       "      <td>0.06125</td>\n",
       "    </tr>\n",
       "    <tr>\n",
       "      <th>clean price</th>\n",
       "      <td>89.03125</td>\n",
       "      <td>111.0391</td>\n",
       "    </tr>\n",
       "    <tr>\n",
       "      <th>accrued interest</th>\n",
       "      <td>0.6005</td>\n",
       "      <td>2.2636</td>\n",
       "    </tr>\n",
       "    <tr>\n",
       "      <th>ytm</th>\n",
       "      <td>0.037677</td>\n",
       "      <td>0.038784</td>\n",
       "    </tr>\n",
       "    <tr>\n",
       "      <th>duration</th>\n",
       "      <td>5.3494</td>\n",
       "      <td>4.7967</td>\n",
       "    </tr>\n",
       "  </tbody>\n",
       "</table>\n",
       "</div>"
      ],
      "text/plain": [
       "                      207391      204095\n",
       "issue date        2019-08-15  1999-08-15\n",
       "maturity date     2029-08-15  2029-08-15\n",
       "coupon rate          0.01625     0.06125\n",
       "clean price         89.03125    111.0391\n",
       "accrued interest      0.6005      2.2636\n",
       "ytm                 0.037677    0.038784\n",
       "duration              5.3494      4.7967"
      ]
     },
     "execution_count": 2,
     "metadata": {},
     "output_type": "execute_result"
    }
   ],
   "source": [
    "import pandas as pd\n",
    "summary = pd.DataFrame(index=[],columns = [207391,204095],dtype=float)\n",
    "summary.loc['issue date'] = ['2019-08-15','1999-08-15']\n",
    "summary.loc['maturity date'] = ['2029-08-15','2029-08-15']\n",
    "summary.loc['coupon rate'] = [.01625, .06125]\n",
    "summary.loc['clean price'] = [89.03125,111.0391]\n",
    "summary.loc['accrued interest'] = [.6005, 2.2636]\n",
    "summary.loc['ytm'] = [.037677, .038784]\n",
    "summary.loc['duration'] = [5.3494,4.7967]\n",
    "summary"
   ]
  },
  {
   "cell_type": "markdown",
   "metadata": {},
   "source": [
    "### 1.1. (5pts)\n",
    "\n",
    "Explain the long-short trade you would enter based on the market data above, without any further calculation. "
   ]
  },
  {
   "cell_type": "markdown",
   "metadata": {},
   "source": [
    "The instruments mature on the same date, yet their ytm are different. The bond ytm is higher (3.87%) meaning that it currently has a lower price than the note (with a ytm of 3.76%). Ytm can be rationalized as the return if held to maturity. Consequently, one should short the expensive instrument, in this case the T-note, and long the inexpensive instrument, in this case the T-bond.\n",
    "\n",
    "Short note\n",
    "\n",
    "Long bond"
   ]
  },
  {
   "cell_type": "markdown",
   "metadata": {},
   "source": [
    "### 1.2. (5pts)\n",
    "\n",
    "Size your trade.\n",
    "* Suppose the long side is set to $100 million market value. \n",
    "* Size the short to be duration-neutral.\n",
    "\n",
    "Report the market value in the short-side of the trade and the number of long and short contracts."
   ]
  },
  {
   "cell_type": "code",
   "execution_count": 3,
   "metadata": {},
   "outputs": [
    {
     "name": "stdout",
     "output_type": "stream",
     "text": [
      "Number of notes to short [in million] : -1.007\n",
      "Market value of short position [in million] : -89.668\n"
     ]
    }
   ],
   "source": [
    "note=207391 #short\n",
    "bond=204095 #long\n",
    "nlong=100/summary.loc['clean price'][bond] #number of bonds to buy in millions\n",
    "ddlong=summary.loc['duration'][bond]*summary.loc['clean price'][bond]\n",
    "ddshort=summary.loc['duration'][note]*summary.loc['clean price'][note]\n",
    "nshort=-nlong*ddlong/ddshort\n",
    "print('Number of notes to short [in million] :', round(nshort,3))\n",
    "print('Market value of short position [in million] :', round(nshort*summary.loc['clean price'][note],3))\n"
   ]
  },
  {
   "cell_type": "markdown",
   "metadata": {},
   "source": [
    "### 1.3. (5pts)\n",
    "\n",
    "What are the risks of this trade in the short-term and in the long-term?"
   ]
  },
  {
   "cell_type": "markdown",
   "metadata": {},
   "source": [
    "At maturity the instruments' ytm are expected to converge (largely, disregarding any minor microstructure and other ancillary marginal impacts). Nonetheless, that is only an expected relationship at maturity. In the short term, it may be the case that ytm move in any direction do to market pressures, which may affect (either positively or negatively) the performance of the trade. In particular, it would be possible for the ytm of the bond to decrease below the ytm in the note relatively, reversing the position of our suggested trade, or resulting in loses."
   ]
  },
  {
   "cell_type": "markdown",
   "metadata": {},
   "source": [
    "### 1.4. (5pts)\n",
    "\n",
    "Use **modified duration**--not the Macauley duration reported above--to estimate how much pnl will be earned if the securities converge (symmetrically)."
   ]
  },
  {
   "cell_type": "code",
   "execution_count": 4,
   "metadata": {},
   "outputs": [
    {
     "name": "stdout",
     "output_type": "stream",
     "text": [
      "Long position, pnl [USD]:  260446.76\n",
      "Long position, pnl [USD]:  260588.25\n",
      "Total pnl [USD]:  521035.01\n"
     ]
    }
   ],
   "source": [
    "#Assuming semianual\n",
    "mdurlong=summary.loc['duration'][bond]/(1+summary.loc['ytm'][bond]/2)\n",
    "mdurshort=summary.loc['duration'][note]/(1+summary.loc['ytm'][note]/2)\n",
    "spread = summary.loc['ytm'][bond]-summary.loc['ytm'][note]\n",
    "long_pnl=1000000*nlong*mdurlong*spread*summary.loc['clean price'][bond]/2\n",
    "short_pnl=-1000000*nshort*mdurshort*spread*summary.loc['clean price'][note]/2\n",
    "print('Long position, pnl [USD]: ', round(long_pnl, 2))\n",
    "print('Long position, pnl [USD]: ', round(short_pnl, 2))\n",
    "print('Total pnl [USD]: ', round(long_pnl+short_pnl, 2))"
   ]
  },
  {
   "cell_type": "markdown",
   "metadata": {},
   "source": [
    "### 1.5. (5pts)\n",
    "\n",
    "For which of these securities will the duration approximation be less accurate? Explain."
   ]
  },
  {
   "cell_type": "markdown",
   "metadata": {},
   "source": [
    "Duration-approximated price will be more accurate for bonds where the convexity term is small (i.e. larger coupons).\n",
    "\n",
    "The duration approximation will be **less accurate** for the **note**, which has a lower coupon payment than the bond but the same maturity (i.e. higher convexity)."
   ]
  },
  {
   "cell_type": "markdown",
   "metadata": {},
   "source": [
    "***"
   ]
  },
  {
   "cell_type": "markdown",
   "metadata": {},
   "source": [
    "# 2. Extracting Curves"
   ]
  },
  {
   "cell_type": "markdown",
   "metadata": {},
   "source": [
    "Use the selected treasury quotes in the file, `select_maturities_2017-02-07.xlsx`.\n",
    "\n",
    "* Market quots are provided for treasury securities expiring approximately every six months over the next ten years.\n",
    "* You are welcome to assume that they mature at exaclty six-year increments or to use the exact dates.\n",
    "* Consider the `price` column to represent the dirty mid price. Use it as quoted, without further adjustment."
   ]
  },
  {
   "cell_type": "code",
   "execution_count": 5,
   "metadata": {},
   "outputs": [],
   "source": [
    "df=pd.read_excel(\"../data/select_maturities_2017-02-07.xlsx\")\n",
    "df['price']=((df['bid']+df['ask'])/2)+df['accrint']"
   ]
  },
  {
   "cell_type": "markdown",
   "metadata": {},
   "source": [
    "### 2.1 (10pts)\n",
    "\n",
    "Bootstrap the spot curve. Report it in both...\n",
    "* discount factors, $Z$\n",
    "* (semiannually compounded) discount rates, $r$"
   ]
  },
  {
   "cell_type": "code",
   "execution_count": 6,
   "metadata": {},
   "outputs": [
    {
     "data": {
      "text/html": [
       "<div>\n",
       "<style scoped>\n",
       "    .dataframe tbody tr th:only-of-type {\n",
       "        vertical-align: middle;\n",
       "    }\n",
       "\n",
       "    .dataframe tbody tr th {\n",
       "        vertical-align: top;\n",
       "    }\n",
       "\n",
       "    .dataframe thead th {\n",
       "        text-align: right;\n",
       "    }\n",
       "</style>\n",
       "<table border=\"1\" class=\"dataframe\">\n",
       "  <thead>\n",
       "    <tr style=\"text-align: right;\">\n",
       "      <th></th>\n",
       "      <th>discount_factor</th>\n",
       "      <th>semiannual</th>\n",
       "    </tr>\n",
       "    <tr>\n",
       "      <th>maturity</th>\n",
       "      <th></th>\n",
       "      <th></th>\n",
       "    </tr>\n",
       "  </thead>\n",
       "  <tbody>\n",
       "    <tr>\n",
       "      <th>0.561259</th>\n",
       "      <td>0.999288</td>\n",
       "      <td>0.001269</td>\n",
       "    </tr>\n",
       "    <tr>\n",
       "      <th>1.056810</th>\n",
       "      <td>0.994393</td>\n",
       "      <td>0.005327</td>\n",
       "    </tr>\n",
       "    <tr>\n",
       "      <th>1.560575</th>\n",
       "      <td>0.987643</td>\n",
       "      <td>0.007984</td>\n",
       "    </tr>\n",
       "    <tr>\n",
       "      <th>2.056126</th>\n",
       "      <td>0.982836</td>\n",
       "      <td>0.008438</td>\n",
       "    </tr>\n",
       "    <tr>\n",
       "      <th>2.559890</th>\n",
       "      <td>0.974284</td>\n",
       "      <td>0.010203</td>\n",
       "    </tr>\n",
       "    <tr>\n",
       "      <th>3.058179</th>\n",
       "      <td>0.962927</td>\n",
       "      <td>0.012391</td>\n",
       "    </tr>\n",
       "    <tr>\n",
       "      <th>3.561944</th>\n",
       "      <td>0.951387</td>\n",
       "      <td>0.014040</td>\n",
       "    </tr>\n",
       "    <tr>\n",
       "      <th>4.057495</th>\n",
       "      <td>0.938024</td>\n",
       "      <td>0.015831</td>\n",
       "    </tr>\n",
       "    <tr>\n",
       "      <th>4.561259</th>\n",
       "      <td>0.926485</td>\n",
       "      <td>0.016811</td>\n",
       "    </tr>\n",
       "    <tr>\n",
       "      <th>5.056810</th>\n",
       "      <td>0.917183</td>\n",
       "      <td>0.017169</td>\n",
       "    </tr>\n",
       "    <tr>\n",
       "      <th>5.560575</th>\n",
       "      <td>0.903479</td>\n",
       "      <td>0.018338</td>\n",
       "    </tr>\n",
       "    <tr>\n",
       "      <th>6.056126</th>\n",
       "      <td>0.888510</td>\n",
       "      <td>0.019615</td>\n",
       "    </tr>\n",
       "    <tr>\n",
       "      <th>6.559890</th>\n",
       "      <td>0.874943</td>\n",
       "      <td>0.020470</td>\n",
       "    </tr>\n",
       "    <tr>\n",
       "      <th>7.058179</th>\n",
       "      <td>0.869398</td>\n",
       "      <td>0.019927</td>\n",
       "    </tr>\n",
       "    <tr>\n",
       "      <th>7.561944</th>\n",
       "      <td>0.854419</td>\n",
       "      <td>0.020915</td>\n",
       "    </tr>\n",
       "    <tr>\n",
       "      <th>8.057495</th>\n",
       "      <td>0.839202</td>\n",
       "      <td>0.021875</td>\n",
       "    </tr>\n",
       "    <tr>\n",
       "      <th>8.561259</th>\n",
       "      <td>0.826252</td>\n",
       "      <td>0.022418</td>\n",
       "    </tr>\n",
       "    <tr>\n",
       "      <th>9.056810</th>\n",
       "      <td>0.812434</td>\n",
       "      <td>0.023067</td>\n",
       "    </tr>\n",
       "    <tr>\n",
       "      <th>9.560575</th>\n",
       "      <td>0.801763</td>\n",
       "      <td>0.023244</td>\n",
       "    </tr>\n",
       "    <tr>\n",
       "      <th>10.056126</th>\n",
       "      <td>0.807646</td>\n",
       "      <td>0.021357</td>\n",
       "    </tr>\n",
       "  </tbody>\n",
       "</table>\n",
       "</div>"
      ],
      "text/plain": [
       "           discount_factor  semiannual\n",
       "maturity                              \n",
       "0.561259          0.999288    0.001269\n",
       "1.056810          0.994393    0.005327\n",
       "1.560575          0.987643    0.007984\n",
       "2.056126          0.982836    0.008438\n",
       "2.559890          0.974284    0.010203\n",
       "3.058179          0.962927    0.012391\n",
       "3.561944          0.951387    0.014040\n",
       "4.057495          0.938024    0.015831\n",
       "4.561259          0.926485    0.016811\n",
       "5.056810          0.917183    0.017169\n",
       "5.560575          0.903479    0.018338\n",
       "6.056126          0.888510    0.019615\n",
       "6.559890          0.874943    0.020470\n",
       "7.058179          0.869398    0.019927\n",
       "7.561944          0.854419    0.020915\n",
       "8.057495          0.839202    0.021875\n",
       "8.561259          0.826252    0.022418\n",
       "9.056810          0.812434    0.023067\n",
       "9.560575          0.801763    0.023244\n",
       "10.056126         0.807646    0.021357"
      ]
     },
     "execution_count": 6,
     "metadata": {},
     "output_type": "execute_result"
    }
   ],
   "source": [
    "C=C_matrix(BootstrapData(df), '2017-02-07','maturity date','kytreasno','cpn rate',2)\n",
    "C=C.iloc[:,1:].copy()\n",
    "tprices=df.set_index('kytreasno',drop=True).loc[C.index]['price']\n",
    "model=LinearRegression(fit_intercept=False)\n",
    "model.fit(C,tprices)\n",
    "res=pd.DataFrame({'discount_factor':model.coef_,'maturity':(pd.to_datetime(C.columns)-pd.to_datetime('2017-02-07')).days/365.25}).set_index('maturity',drop=True)\n",
    "res['semiannual']=compounded_from_discount(res['discount_factor'], res.index, 2)\n",
    "res"
   ]
  },
  {
   "cell_type": "markdown",
   "metadata": {},
   "source": [
    "### 2.2 (10pts)\n",
    "\n",
    "Calculate the Nelson-Siegel curve using the parameters below. (Not the NS-extended; just four parameters.)\n",
    "\n",
    "Report both\n",
    "* discount factors, $Z$\n",
    "* (semiannually compounded) discount rates, $r$"
   ]
  },
  {
   "cell_type": "code",
   "execution_count": 7,
   "metadata": {},
   "outputs": [
    {
     "data": {
      "text/html": [
       "<div>\n",
       "<style scoped>\n",
       "    .dataframe tbody tr th:only-of-type {\n",
       "        vertical-align: middle;\n",
       "    }\n",
       "\n",
       "    .dataframe tbody tr th {\n",
       "        vertical-align: top;\n",
       "    }\n",
       "\n",
       "    .dataframe thead th {\n",
       "        text-align: right;\n",
       "    }\n",
       "</style>\n",
       "<table border=\"1\" class=\"dataframe\">\n",
       "  <thead>\n",
       "    <tr style=\"text-align: right;\">\n",
       "      <th></th>\n",
       "      <th>theta0</th>\n",
       "      <th>theta1</th>\n",
       "      <th>theta2</th>\n",
       "      <th>lambda1</th>\n",
       "    </tr>\n",
       "  </thead>\n",
       "  <tbody>\n",
       "    <tr>\n",
       "      <th>Nelson-Siegel parameters</th>\n",
       "      <td>0.031627</td>\n",
       "      <td>-0.025166</td>\n",
       "      <td>-0.020701</td>\n",
       "      <td>1.514887</td>\n",
       "    </tr>\n",
       "  </tbody>\n",
       "</table>\n",
       "</div>"
      ],
      "text/plain": [
       "                            theta0    theta1    theta2   lambda1\n",
       "Nelson-Siegel parameters  0.031627 -0.025166 -0.020701  1.514887"
      ]
     },
     "metadata": {},
     "output_type": "display_data"
    }
   ],
   "source": [
    "params = pd.DataFrame(columns=['Nelson-Siegel parameters'],index=['theta0', 'theta1','theta2','lambda1'],data=[0.031627,-0.025166, -0.020701, 1.514887]).T\n",
    "display(params)"
   ]
  },
  {
   "cell_type": "code",
   "execution_count": 8,
   "metadata": {},
   "outputs": [
    {
     "data": {
      "text/html": [
       "<div>\n",
       "<style scoped>\n",
       "    .dataframe tbody tr th:only-of-type {\n",
       "        vertical-align: middle;\n",
       "    }\n",
       "\n",
       "    .dataframe tbody tr th {\n",
       "        vertical-align: top;\n",
       "    }\n",
       "\n",
       "    .dataframe thead th {\n",
       "        text-align: right;\n",
       "    }\n",
       "</style>\n",
       "<table border=\"1\" class=\"dataframe\">\n",
       "  <thead>\n",
       "    <tr style=\"text-align: right;\">\n",
       "      <th></th>\n",
       "      <th>discount_factor</th>\n",
       "      <th>semiannual</th>\n",
       "      <th>NS_rate</th>\n",
       "      <th>NS_discount</th>\n",
       "      <th>NS_semiannual</th>\n",
       "    </tr>\n",
       "    <tr>\n",
       "      <th>maturity</th>\n",
       "      <th></th>\n",
       "      <th></th>\n",
       "      <th></th>\n",
       "      <th></th>\n",
       "      <th></th>\n",
       "    </tr>\n",
       "  </thead>\n",
       "  <tbody>\n",
       "    <tr>\n",
       "      <th>0.561259</th>\n",
       "      <td>0.999288</td>\n",
       "      <td>0.001269</td>\n",
       "      <td>0.007590</td>\n",
       "      <td>0.995749</td>\n",
       "      <td>0.007604</td>\n",
       "    </tr>\n",
       "    <tr>\n",
       "      <th>1.056810</th>\n",
       "      <td>0.994393</td>\n",
       "      <td>0.005327</td>\n",
       "      <td>0.008911</td>\n",
       "      <td>0.990627</td>\n",
       "      <td>0.008931</td>\n",
       "    </tr>\n",
       "    <tr>\n",
       "      <th>1.560575</th>\n",
       "      <td>0.987643</td>\n",
       "      <td>0.007984</td>\n",
       "      <td>0.010385</td>\n",
       "      <td>0.983924</td>\n",
       "      <td>0.010412</td>\n",
       "    </tr>\n",
       "    <tr>\n",
       "      <th>2.056126</th>\n",
       "      <td>0.982836</td>\n",
       "      <td>0.008438</td>\n",
       "      <td>0.011858</td>\n",
       "      <td>0.975913</td>\n",
       "      <td>0.011894</td>\n",
       "    </tr>\n",
       "    <tr>\n",
       "      <th>2.559890</th>\n",
       "      <td>0.974284</td>\n",
       "      <td>0.010203</td>\n",
       "      <td>0.013314</td>\n",
       "      <td>0.966493</td>\n",
       "      <td>0.013358</td>\n",
       "    </tr>\n",
       "    <tr>\n",
       "      <th>3.058179</th>\n",
       "      <td>0.962927</td>\n",
       "      <td>0.012391</td>\n",
       "      <td>0.014674</td>\n",
       "      <td>0.956117</td>\n",
       "      <td>0.014728</td>\n",
       "    </tr>\n",
       "    <tr>\n",
       "      <th>3.561944</th>\n",
       "      <td>0.951387</td>\n",
       "      <td>0.014040</td>\n",
       "      <td>0.015950</td>\n",
       "      <td>0.944772</td>\n",
       "      <td>0.016013</td>\n",
       "    </tr>\n",
       "    <tr>\n",
       "      <th>4.057495</th>\n",
       "      <td>0.938024</td>\n",
       "      <td>0.015831</td>\n",
       "      <td>0.017100</td>\n",
       "      <td>0.932970</td>\n",
       "      <td>0.017173</td>\n",
       "    </tr>\n",
       "    <tr>\n",
       "      <th>4.561259</th>\n",
       "      <td>0.926485</td>\n",
       "      <td>0.016811</td>\n",
       "      <td>0.018163</td>\n",
       "      <td>0.920492</td>\n",
       "      <td>0.018246</td>\n",
       "    </tr>\n",
       "    <tr>\n",
       "      <th>5.056810</th>\n",
       "      <td>0.917183</td>\n",
       "      <td>0.017169</td>\n",
       "      <td>0.019109</td>\n",
       "      <td>0.907890</td>\n",
       "      <td>0.019201</td>\n",
       "    </tr>\n",
       "    <tr>\n",
       "      <th>5.560575</th>\n",
       "      <td>0.903479</td>\n",
       "      <td>0.018338</td>\n",
       "      <td>0.019977</td>\n",
       "      <td>0.894866</td>\n",
       "      <td>0.020077</td>\n",
       "    </tr>\n",
       "    <tr>\n",
       "      <th>6.056126</th>\n",
       "      <td>0.888510</td>\n",
       "      <td>0.019615</td>\n",
       "      <td>0.020744</td>\n",
       "      <td>0.881941</td>\n",
       "      <td>0.020852</td>\n",
       "    </tr>\n",
       "    <tr>\n",
       "      <th>6.559890</th>\n",
       "      <td>0.874943</td>\n",
       "      <td>0.020470</td>\n",
       "      <td>0.021447</td>\n",
       "      <td>0.868760</td>\n",
       "      <td>0.021562</td>\n",
       "    </tr>\n",
       "    <tr>\n",
       "      <th>7.058179</th>\n",
       "      <td>0.869398</td>\n",
       "      <td>0.019927</td>\n",
       "      <td>0.022072</td>\n",
       "      <td>0.855740</td>\n",
       "      <td>0.022194</td>\n",
       "    </tr>\n",
       "    <tr>\n",
       "      <th>7.561944</th>\n",
       "      <td>0.854419</td>\n",
       "      <td>0.020915</td>\n",
       "      <td>0.022642</td>\n",
       "      <td>0.842641</td>\n",
       "      <td>0.022770</td>\n",
       "    </tr>\n",
       "    <tr>\n",
       "      <th>8.057495</th>\n",
       "      <td>0.839202</td>\n",
       "      <td>0.021875</td>\n",
       "      <td>0.023147</td>\n",
       "      <td>0.829852</td>\n",
       "      <td>0.023282</td>\n",
       "    </tr>\n",
       "    <tr>\n",
       "      <th>8.561259</th>\n",
       "      <td>0.826252</td>\n",
       "      <td>0.022418</td>\n",
       "      <td>0.023612</td>\n",
       "      <td>0.816972</td>\n",
       "      <td>0.023752</td>\n",
       "    </tr>\n",
       "    <tr>\n",
       "      <th>9.056810</th>\n",
       "      <td>0.812434</td>\n",
       "      <td>0.023067</td>\n",
       "      <td>0.024027</td>\n",
       "      <td>0.804441</td>\n",
       "      <td>0.024172</td>\n",
       "    </tr>\n",
       "    <tr>\n",
       "      <th>9.560575</th>\n",
       "      <td>0.801763</td>\n",
       "      <td>0.023244</td>\n",
       "      <td>0.024410</td>\n",
       "      <td>0.791857</td>\n",
       "      <td>0.024560</td>\n",
       "    </tr>\n",
       "    <tr>\n",
       "      <th>10.056126</th>\n",
       "      <td>0.807646</td>\n",
       "      <td>0.021357</td>\n",
       "      <td>0.024754</td>\n",
       "      <td>0.779638</td>\n",
       "      <td>0.024907</td>\n",
       "    </tr>\n",
       "  </tbody>\n",
       "</table>\n",
       "</div>"
      ],
      "text/plain": [
       "           discount_factor  semiannual   NS_rate  NS_discount  NS_semiannual\n",
       "maturity                                                                    \n",
       "0.561259          0.999288    0.001269  0.007590     0.995749       0.007604\n",
       "1.056810          0.994393    0.005327  0.008911     0.990627       0.008931\n",
       "1.560575          0.987643    0.007984  0.010385     0.983924       0.010412\n",
       "2.056126          0.982836    0.008438  0.011858     0.975913       0.011894\n",
       "2.559890          0.974284    0.010203  0.013314     0.966493       0.013358\n",
       "3.058179          0.962927    0.012391  0.014674     0.956117       0.014728\n",
       "3.561944          0.951387    0.014040  0.015950     0.944772       0.016013\n",
       "4.057495          0.938024    0.015831  0.017100     0.932970       0.017173\n",
       "4.561259          0.926485    0.016811  0.018163     0.920492       0.018246\n",
       "5.056810          0.917183    0.017169  0.019109     0.907890       0.019201\n",
       "5.560575          0.903479    0.018338  0.019977     0.894866       0.020077\n",
       "6.056126          0.888510    0.019615  0.020744     0.881941       0.020852\n",
       "6.559890          0.874943    0.020470  0.021447     0.868760       0.021562\n",
       "7.058179          0.869398    0.019927  0.022072     0.855740       0.022194\n",
       "7.561944          0.854419    0.020915  0.022642     0.842641       0.022770\n",
       "8.057495          0.839202    0.021875  0.023147     0.829852       0.023282\n",
       "8.561259          0.826252    0.022418  0.023612     0.816972       0.023752\n",
       "9.056810          0.812434    0.023067  0.024027     0.804441       0.024172\n",
       "9.560575          0.801763    0.023244  0.024410     0.791857       0.024560\n",
       "10.056126         0.807646    0.021357  0.024754     0.779638       0.024907"
      ]
     },
     "execution_count": 8,
     "metadata": {},
     "output_type": "execute_result"
    }
   ],
   "source": [
    "t0=params.loc['Nelson-Siegel parameters']['theta0']\n",
    "t1=params.loc['Nelson-Siegel parameters']['theta1']\n",
    "t2=params.loc['Nelson-Siegel parameters']['theta2']\n",
    "lam=params.loc['Nelson-Siegel parameters']['lambda1']\n",
    "res['NS_rate']=t0+((t1+t2)*((1-np.exp(-res.index/lam))/(res.index/lam)))-t2*np.exp(-res.index/lam)\n",
    "res['NS_discount']=discount_from_continuous(res['NS_rate'], res.index)\n",
    "res['NS_semiannual']=compounded_from_discount(res['NS_discount'], res.index, 2)\n",
    "res\n",
    "#NS_semiannual for semiannually compounded rates\n",
    "#NS_discount for discount factors\n"
   ]
  },
  {
   "cell_type": "markdown",
   "metadata": {},
   "source": [
    "### 2.3 (5pts)\n",
    "\n",
    "Plot...\n",
    "* bootstrapped spot rates\n",
    "* Nelson-Siegel spot rates\n",
    "* provided ytm"
   ]
  },
  {
   "cell_type": "code",
   "execution_count": 9,
   "metadata": {},
   "outputs": [],
   "source": [
    "res['ytm']=df['ytm'].values"
   ]
  },
  {
   "cell_type": "code",
   "execution_count": 10,
   "metadata": {},
   "outputs": [
    {
     "data": {
      "image/png": "[encoded data removed]",
      "text/plain": [
       "<Figure size 640x480 with 1 Axes>"
      ]
     },
     "metadata": {},
     "output_type": "display_data"
    }
   ],
   "source": [
    "sns.scatterplot(x=res.index, y=res['semiannual'], label='Semiannual')\n",
    "sns.scatterplot(x=res.index, y=res['NS_semiannual'], label='Nelson-Siegel')\n",
    "sns.scatterplot(x=res.index, y=res['ytm'], label='YTM')\n",
    "plt.xlabel('Maturity (years)')\n",
    "plt.ylabel('Rate')\n",
    "plt.legend()\n",
    "plt.show()"
   ]
  },
  {
   "cell_type": "markdown",
   "metadata": {},
   "source": [
    "### 2.4 (10pts)\n",
    "\n",
    "Which of the two spot rate curves (bootstrapped or Nelson-Siegel) would be better for...\n",
    "* pricing the provided sample\n",
    "* building spot rates out to 30 years\n",
    "* calculating forward rates\n",
    "\n",
    "For each of these three questions, be **specific** in your answer."
   ]
  },
  {
   "cell_type": "markdown",
   "metadata": {},
   "source": [
    "* pricing the provided sample\n",
    "\n",
    "For the provided sample only, the bootstrapped version would be better. It does not generalize as well for other datapoints, but for in-sample, we are not imposing the bias that the NS parametric approach imposes, so the bootstrapped version would perform better.\n",
    "\n",
    "* building spot rates out to 30 years\n",
    "\n",
    "For building spot rates out the NS approach would be better. For any out-of-sample predictions the NS approach increases the statistical power by only selected a small number of parameters describing all the datapoint. In general, they are not priced perfectly, but the statistical power of the model greatly increases.\n",
    "\n",
    "* calculating forward rates\n",
    "\n",
    "The Nelson-Siegel model is also preferable for calculating forward rates, especially over longer horizons. Its smooth, continuous curve facilitates the derivation of forward rates from spot rates. While bootstrapping can calculate forward rates, the Nelson-Siegel model's functional form can more easily capture the term structure's overall shape, providing a coherent framework for forwards over various maturities.\n"
   ]
  },
  {
   "cell_type": "markdown",
   "metadata": {},
   "source": [
    "### 2.5 (5pts)\n",
    "\n",
    "Consider the bootstrapped curve and its associated forward curve. (No need to calculate the forward curve.)\n",
    "\n",
    "Conceptually, do you expect it is higher or lower than the spot-rate curve at\n",
    "* $T=1$\n",
    "* $T=10$\n",
    "\n",
    "Explain."
   ]
  },
  {
   "cell_type": "markdown",
   "metadata": {},
   "source": [
    "The question is whether the curve is essentially increasing or decreasing at that point. For T=1, the curve is increasing, we therefore expect the forward curve to be higher. For T=10, there seems to be a pretty substantial dip. Consequently, we expect that forward rate to be lower that the spot-rate curve."
   ]
  },
  {
   "cell_type": "markdown",
   "metadata": {},
   "source": [
    "### 2.6 (5pts)\n",
    "\n",
    "Use the bootstrapped spot curve to calculate the forward rate for $T_1=3\\to T_2=3.5$."
   ]
  },
  {
   "cell_type": "code",
   "execution_count": 11,
   "metadata": {},
   "outputs": [
    {
     "name": "stdout",
     "output_type": "stream",
     "text": [
      "Forward rate:  2.41 %\n"
     ]
    }
   ],
   "source": [
    "res.index=np.arange(0.5,10.5,0.5)\n",
    "forwardrate=continuous_from_discount(res.loc[3.5,'discount_factor']/res.loc[3, 'discount_factor'], 0.5)\n",
    "print('Forward rate: ', round(forwardrate*100, 2), '%')"
   ]
  },
  {
   "cell_type": "markdown",
   "metadata": {},
   "source": [
    "***"
   ]
  },
  {
   "cell_type": "markdown",
   "metadata": {},
   "source": [
    "# 3. Trading the Yield Curve\n",
    "\n"
   ]
  },
  {
   "cell_type": "markdown",
   "metadata": {},
   "source": [
    "Use the file, `famabliss_strips_2023-12-29.xlsx` for the following problem.\n",
    "\n",
    "* The file provides prices for **strips** which are zero-coupon bonds. \n",
    "* Assume face value of 100.\n",
    "* Because these prices are on zero-coupon bonds, they can be interpreted as discount factors, $Z$, directly.\n",
    "\n",
    "Note that you will make use of only a few rows of the data set."
   ]
  },
  {
   "cell_type": "code",
   "execution_count": 12,
   "metadata": {},
   "outputs": [
    {
     "data": {
      "text/html": [
       "<div>\n",
       "<style scoped>\n",
       "    .dataframe tbody tr th:only-of-type {\n",
       "        vertical-align: middle;\n",
       "    }\n",
       "\n",
       "    .dataframe tbody tr th {\n",
       "        vertical-align: top;\n",
       "    }\n",
       "\n",
       "    .dataframe thead th {\n",
       "        text-align: right;\n",
       "    }\n",
       "</style>\n",
       "<table border=\"1\" class=\"dataframe\">\n",
       "  <thead>\n",
       "    <tr style=\"text-align: right;\">\n",
       "      <th></th>\n",
       "      <th>date</th>\n",
       "      <th>1</th>\n",
       "      <th>2</th>\n",
       "      <th>3</th>\n",
       "      <th>4</th>\n",
       "      <th>5</th>\n",
       "    </tr>\n",
       "  </thead>\n",
       "  <tbody>\n",
       "    <tr>\n",
       "      <th>0</th>\n",
       "      <td>1952-06-30</td>\n",
       "      <td>98.177763</td>\n",
       "      <td>96.253133</td>\n",
       "      <td>94.246713</td>\n",
       "      <td>92.634134</td>\n",
       "      <td>90.418295</td>\n",
       "    </tr>\n",
       "    <tr>\n",
       "      <th>1</th>\n",
       "      <td>1952-07-31</td>\n",
       "      <td>98.094756</td>\n",
       "      <td>96.031453</td>\n",
       "      <td>93.931226</td>\n",
       "      <td>92.308865</td>\n",
       "      <td>89.851576</td>\n",
       "    </tr>\n",
       "    <tr>\n",
       "      <th>2</th>\n",
       "      <td>1952-08-29</td>\n",
       "      <td>98.057808</td>\n",
       "      <td>95.974988</td>\n",
       "      <td>93.781939</td>\n",
       "      <td>92.145776</td>\n",
       "      <td>89.571687</td>\n",
       "    </tr>\n",
       "    <tr>\n",
       "      <th>3</th>\n",
       "      <td>1952-09-30</td>\n",
       "      <td>98.031188</td>\n",
       "      <td>95.909789</td>\n",
       "      <td>93.755108</td>\n",
       "      <td>92.096104</td>\n",
       "      <td>89.167641</td>\n",
       "    </tr>\n",
       "    <tr>\n",
       "      <th>4</th>\n",
       "      <td>1952-10-31</td>\n",
       "      <td>98.110769</td>\n",
       "      <td>95.974490</td>\n",
       "      <td>93.758273</td>\n",
       "      <td>91.929019</td>\n",
       "      <td>89.724841</td>\n",
       "    </tr>\n",
       "    <tr>\n",
       "      <th>...</th>\n",
       "      <td>...</td>\n",
       "      <td>...</td>\n",
       "      <td>...</td>\n",
       "      <td>...</td>\n",
       "      <td>...</td>\n",
       "      <td>...</td>\n",
       "    </tr>\n",
       "    <tr>\n",
       "      <th>854</th>\n",
       "      <td>2023-08-31</td>\n",
       "      <td>94.816353</td>\n",
       "      <td>90.853466</td>\n",
       "      <td>87.433461</td>\n",
       "      <td>84.104382</td>\n",
       "      <td>81.043140</td>\n",
       "    </tr>\n",
       "    <tr>\n",
       "      <th>855</th>\n",
       "      <td>2023-09-29</td>\n",
       "      <td>94.730925</td>\n",
       "      <td>90.527697</td>\n",
       "      <td>86.825311</td>\n",
       "      <td>83.080264</td>\n",
       "      <td>79.615657</td>\n",
       "    </tr>\n",
       "    <tr>\n",
       "      <th>856</th>\n",
       "      <td>2023-10-31</td>\n",
       "      <td>94.771792</td>\n",
       "      <td>90.435524</td>\n",
       "      <td>86.473944</td>\n",
       "      <td>82.436256</td>\n",
       "      <td>78.612617</td>\n",
       "    </tr>\n",
       "    <tr>\n",
       "      <th>857</th>\n",
       "      <td>2023-11-30</td>\n",
       "      <td>95.107986</td>\n",
       "      <td>91.195087</td>\n",
       "      <td>87.695668</td>\n",
       "      <td>84.219066</td>\n",
       "      <td>80.937758</td>\n",
       "    </tr>\n",
       "    <tr>\n",
       "      <th>858</th>\n",
       "      <td>2023-12-29</td>\n",
       "      <td>95.378749</td>\n",
       "      <td>91.964449</td>\n",
       "      <td>88.852295</td>\n",
       "      <td>85.667229</td>\n",
       "      <td>82.673963</td>\n",
       "    </tr>\n",
       "  </tbody>\n",
       "</table>\n",
       "<p>859 rows × 6 columns</p>\n",
       "</div>"
      ],
      "text/plain": [
       "          date          1          2          3          4          5\n",
       "0   1952-06-30  98.177763  96.253133  94.246713  92.634134  90.418295\n",
       "1   1952-07-31  98.094756  96.031453  93.931226  92.308865  89.851576\n",
       "2   1952-08-29  98.057808  95.974988  93.781939  92.145776  89.571687\n",
       "3   1952-09-30  98.031188  95.909789  93.755108  92.096104  89.167641\n",
       "4   1952-10-31  98.110769  95.974490  93.758273  91.929019  89.724841\n",
       "..         ...        ...        ...        ...        ...        ...\n",
       "854 2023-08-31  94.816353  90.853466  87.433461  84.104382  81.043140\n",
       "855 2023-09-29  94.730925  90.527697  86.825311  83.080264  79.615657\n",
       "856 2023-10-31  94.771792  90.435524  86.473944  82.436256  78.612617\n",
       "857 2023-11-30  95.107986  91.195087  87.695668  84.219066  80.937758\n",
       "858 2023-12-29  95.378749  91.964449  88.852295  85.667229  82.673963\n",
       "\n",
       "[859 rows x 6 columns]"
      ]
     },
     "execution_count": 12,
     "metadata": {},
     "output_type": "execute_result"
    }
   ],
   "source": [
    "dfs=pd.read_excel(\"../data/famabliss_strips_2023-12-29.xlsx\")\n",
    "dfs"
   ]
  },
  {
   "cell_type": "markdown",
   "metadata": {},
   "source": [
    "### 1. (10pts)\n",
    "\n",
    "Set up a trade as of `2010-01-29` to \n",
    "* go long 100 million (market value) of the 5-year.\n",
    "* short the 2-year strips in a quantity that is duration hedged.\n",
    "\n",
    "List the positions you hold long and short. \n",
    "* Assume you are financing the positions directly; no worries about haircuts. \n",
    "* Assume there are no market frictions, so you can short securities and immediately receive their market value. \n",
    "* (No need to worry about borrowing costs for the short.)"
   ]
  },
  {
   "cell_type": "code",
   "execution_count": 13,
   "metadata": {},
   "outputs": [
    {
     "data": {
      "text/html": [
       "<div>\n",
       "<style scoped>\n",
       "    .dataframe tbody tr th:only-of-type {\n",
       "        vertical-align: middle;\n",
       "    }\n",
       "\n",
       "    .dataframe tbody tr th {\n",
       "        vertical-align: top;\n",
       "    }\n",
       "\n",
       "    .dataframe thead th {\n",
       "        text-align: right;\n",
       "    }\n",
       "</style>\n",
       "<table border=\"1\" class=\"dataframe\">\n",
       "  <thead>\n",
       "    <tr style=\"text-align: right;\">\n",
       "      <th></th>\n",
       "      <th>date</th>\n",
       "      <th>1</th>\n",
       "      <th>2</th>\n",
       "      <th>3</th>\n",
       "      <th>4</th>\n",
       "      <th>5</th>\n",
       "    </tr>\n",
       "  </thead>\n",
       "  <tbody>\n",
       "    <tr>\n",
       "      <th>691</th>\n",
       "      <td>2010-01-29</td>\n",
       "      <td>99.688332</td>\n",
       "      <td>98.431098</td>\n",
       "      <td>96.079773</td>\n",
       "      <td>92.897235</td>\n",
       "      <td>88.898332</td>\n",
       "    </tr>\n",
       "  </tbody>\n",
       "</table>\n",
       "</div>"
      ],
      "text/plain": [
       "          date          1          2          3          4          5\n",
       "691 2010-01-29  99.688332  98.431098  96.079773  92.897235  88.898332"
      ]
     },
     "execution_count": 13,
     "metadata": {},
     "output_type": "execute_result"
    }
   ],
   "source": [
    "fact=dfs[dfs['date']=='2010-01-29']\n",
    "fact"
   ]
  },
  {
   "cell_type": "code",
   "execution_count": 14,
   "metadata": {},
   "outputs": [
    {
     "name": "stdout",
     "output_type": "stream",
     "text": [
      "Number of instruments long [in million] : 1.125\n",
      "Market value of long position [in million] : 100.0\n",
      " \n",
      "Number of instruments short [in million] : -2.54\n",
      "Market value of short position [in million] : -250.0\n"
     ]
    }
   ],
   "source": [
    "nnlong=(100/fact[5]).values[0] #number of bonds to buy in millions\n",
    "dddlong=5*fact[5].values[0]\n",
    "dddshort=2*fact[2].values[0]\n",
    "nnshort=-nnlong*dddlong/dddshort\n",
    "print('Number of instruments long [in million] :', round(nnlong,3))\n",
    "print('Market value of long position [in million] :', round(nnlong*fact[5].values[0],3))\n",
    "print(' ')\n",
    "print('Number of instruments short [in million] :', round(nnshort,3))\n",
    "print('Market value of short position [in million] :', round(nnshort*fact[2].values[0],3))\n",
    "\n"
   ]
  },
  {
   "cell_type": "markdown",
   "metadata": {},
   "source": [
    "### 2. (5pts)\n",
    "As of `2011-01-31`, assess the pnl on the long, short, and net trade."
   ]
  },
  {
   "cell_type": "code",
   "execution_count": 15,
   "metadata": {},
   "outputs": [
    {
     "data": {
      "text/html": [
       "<div>\n",
       "<style scoped>\n",
       "    .dataframe tbody tr th:only-of-type {\n",
       "        vertical-align: middle;\n",
       "    }\n",
       "\n",
       "    .dataframe tbody tr th {\n",
       "        vertical-align: top;\n",
       "    }\n",
       "\n",
       "    .dataframe thead th {\n",
       "        text-align: right;\n",
       "    }\n",
       "</style>\n",
       "<table border=\"1\" class=\"dataframe\">\n",
       "  <thead>\n",
       "    <tr style=\"text-align: right;\">\n",
       "      <th></th>\n",
       "      <th>date</th>\n",
       "      <th>1</th>\n",
       "      <th>2</th>\n",
       "      <th>3</th>\n",
       "      <th>4</th>\n",
       "      <th>5</th>\n",
       "    </tr>\n",
       "  </thead>\n",
       "  <tbody>\n",
       "    <tr>\n",
       "      <th>703</th>\n",
       "      <td>2011-01-31</td>\n",
       "      <td>99.689175</td>\n",
       "      <td>98.927488</td>\n",
       "      <td>97.128458</td>\n",
       "      <td>94.391538</td>\n",
       "      <td>90.614294</td>\n",
       "    </tr>\n",
       "  </tbody>\n",
       "</table>\n",
       "</div>"
      ],
      "text/plain": [
       "          date          1          2          3          4          5\n",
       "703 2011-01-31  99.689175  98.927488  97.128458  94.391538  90.614294"
      ]
     },
     "execution_count": 15,
     "metadata": {},
     "output_type": "execute_result"
    }
   ],
   "source": [
    "fact2=dfs[dfs['date']=='2011-01-31']\n",
    "fact2"
   ]
  },
  {
   "cell_type": "code",
   "execution_count": 16,
   "metadata": {},
   "outputs": [
    {
     "name": "stdout",
     "output_type": "stream",
     "text": [
      "Long:\n",
      "Market value of long position [in million] : 106.179\n",
      "PnL [in million] : 6.179\n",
      " \n",
      "Short:\n",
      "Market value of short position [in million] : -253.195\n",
      "PnL [in million] : -3.195\n",
      " \n",
      "Total PnL [in million] : 2.984\n"
     ]
    }
   ],
   "source": [
    "print('Long:')\n",
    "marketV2l=nnlong*fact2[4].values[0]\n",
    "pnlL=nnlong*(fact2[4].values[0]-fact[5].values[0])\n",
    "print('Market value of long position [in million] :', round(marketV2l,3))\n",
    "print('PnL [in million] :', round(pnlL,3))\n",
    "print(' ')\n",
    "print('Short:')\n",
    "marketV2s=nnshort*fact2[1].values[0]\n",
    "pnlS=nnshort*(fact2[1].values[0]-fact[2].values[0])\n",
    "print('Market value of short position [in million] :', round(marketV2s,3))\n",
    "print('PnL [in million] :', round(pnlS,3))\n",
    "print(' ')\n",
    "tot=pnlL+pnlS\n",
    "print('Total PnL [in million] :', round(tot,3))"
   ]
  },
  {
   "cell_type": "markdown",
   "metadata": {},
   "source": [
    "### 3. (10pts)\n",
    "On `2011-01-31`, roll over the trade.\n",
    "* close out the short positions\n",
    "* enter new short positions in 2-year strips that are a duration hedge against your (continuing) long positions.\n",
    "\n",
    "List the details of your short and long positions in terms of market value and face value of each side of the trade."
   ]
  },
  {
   "cell_type": "code",
   "execution_count": 17,
   "metadata": {},
   "outputs": [
    {
     "name": "stdout",
     "output_type": "stream",
     "text": [
      "Closing short position: [million] -253.195\n",
      "Number of new instruments short [in million] : -2.147\n",
      "Market value of new short position [in million] : -212.358\n",
      "Long: \n",
      "Number of instruments long [in million] : 1.125\n",
      "Market value of long position [in million] : 106.179\n"
     ]
    }
   ],
   "source": [
    "print('Closing short position: [million]', round(marketV2s,3))\n",
    "\n",
    "ndddlong=4*marketV2l\n",
    "\n",
    "new_ddur_short=2*fact2[2].values[0]\n",
    "\n",
    "new_nshort=-ndddlong/new_ddur_short\n",
    "print('Number of new instruments short [in million] :', round(new_nshort,3))\n",
    "\n",
    "new_marketVs=new_nshort*fact2[2].values[0]\n",
    "print('Market value of new short position [in million] :', round(new_marketVs,3))\n",
    "\n",
    "print('Long: ')\n",
    "print('Number of instruments long [in million] :', round(nnlong,3))\n",
    "print('Market value of long position [in million] :', round(marketV2l,3))\n"
   ]
  },
  {
   "cell_type": "markdown",
   "metadata": {},
   "source": [
    "### 4. (5pts)\n",
    "On `2012-01-31`, close out the trade.\n",
    "\n",
    "Report...\n",
    "* pnl for the long, short, and net of the trade."
   ]
  },
  {
   "cell_type": "code",
   "execution_count": 18,
   "metadata": {},
   "outputs": [
    {
     "data": {
      "text/html": [
       "<div>\n",
       "<style scoped>\n",
       "    .dataframe tbody tr th:only-of-type {\n",
       "        vertical-align: middle;\n",
       "    }\n",
       "\n",
       "    .dataframe tbody tr th {\n",
       "        vertical-align: top;\n",
       "    }\n",
       "\n",
       "    .dataframe thead th {\n",
       "        text-align: right;\n",
       "    }\n",
       "</style>\n",
       "<table border=\"1\" class=\"dataframe\">\n",
       "  <thead>\n",
       "    <tr style=\"text-align: right;\">\n",
       "      <th></th>\n",
       "      <th>date</th>\n",
       "      <th>1</th>\n",
       "      <th>2</th>\n",
       "      <th>3</th>\n",
       "      <th>4</th>\n",
       "      <th>5</th>\n",
       "    </tr>\n",
       "  </thead>\n",
       "  <tbody>\n",
       "    <tr>\n",
       "      <th>715</th>\n",
       "      <td>2012-01-31</td>\n",
       "      <td>99.847386</td>\n",
       "      <td>99.555225</td>\n",
       "      <td>99.089131</td>\n",
       "      <td>98.067733</td>\n",
       "      <td>96.435549</td>\n",
       "    </tr>\n",
       "  </tbody>\n",
       "</table>\n",
       "</div>"
      ],
      "text/plain": [
       "          date          1          2          3          4          5\n",
       "715 2012-01-31  99.847386  99.555225  99.089131  98.067733  96.435549"
      ]
     },
     "execution_count": 18,
     "metadata": {},
     "output_type": "execute_result"
    }
   ],
   "source": [
    "fact3=dfs[dfs['date']=='2012-01-31']\n",
    "fact3"
   ]
  },
  {
   "cell_type": "code",
   "execution_count": 19,
   "metadata": {},
   "outputs": [
    {
     "name": "stdout",
     "output_type": "stream",
     "text": [
      "Long:\n",
      "Market value of long position [in million] : 111.463\n",
      "Cum PnL [in million] : 11.463\n",
      " \n",
      "Short:\n",
      "Market value of short position [in million] : -214.333\n",
      "Cum PnL [in million] : -5.17\n",
      " \n",
      "Total Cum PnL [in million] : 6.293\n"
     ]
    }
   ],
   "source": [
    "print('Long:')\n",
    "marketV3l=nnlong*fact3[3].values[0]\n",
    "pnlL+=nnlong*(fact3[3].values[0]-fact2[4].values[0])\n",
    "print('Market value of long position [in million] :', round(marketV3l,3))\n",
    "print('Cum PnL [in million] :', round(pnlL,3))\n",
    "print(' ')\n",
    "print('Short:')\n",
    "marketV3s=new_nshort*fact3[1].values[0]\n",
    "pnlS+=new_nshort*(fact3[1].values[0]-fact2[2].values[0])\n",
    "print('Market value of short position [in million] :', round(marketV3s,3))\n",
    "print('Cum PnL [in million] :', round(pnlS,3))\n",
    "\n",
    "print(' ')\n",
    "tot=pnlL+pnlS\n",
    "print('Total Cum PnL [in million] :', round(tot,3))\n"
   ]
  },
  {
   "cell_type": "markdown",
   "metadata": {},
   "source": [
    "### 5. (5pts)\n",
    "How did this trade do compared to a long-only trade in 5-year notes? Explain."
   ]
  },
  {
   "cell_type": "markdown",
   "metadata": {},
   "source": [
    "From a pnl result perspective, the long only result would have been better. However, it would not have been hedged from a duration standpoint. Therefore, the risk/exposure would have been larger in terms or interest rate variations. "
   ]
  },
  {
   "cell_type": "markdown",
   "metadata": {},
   "source": [
    "### 6. (5pts)\n",
    "\n",
    "Notwithstanding the duration hedge, why was the trade still sensitive to changing levels of the spot rate curve?\n",
    "\n",
    "Be specific in your answer, and consider which quantitative metric would support your answer."
   ]
  },
  {
   "cell_type": "markdown",
   "metadata": {},
   "source": [
    "Even with a duration hedge in place that aims to neutralize interest rate sensitivity by making the duration zero, the trade of strip bonds (zero-coupon bonds) remained sensitive to changing levels of the spot rate curve due to **convexity**. Convexity measures the rate of change of duration as interest rates change and provides a second-order measure of the bond's price sensitivity to interest rate movements. Since duration only accounts for the linear relationship between bond prices and yield changes, the presence of convexity means that the trade can still exhibit sensitivity to interest rate changes, especially in cases of large shifts in the spot rate curve, making the trade's outcome more favorable or less so, depending on the direction of the rate change."
   ]
  },
  {
   "cell_type": "markdown",
   "metadata": {},
   "source": [
    "### 7. (5pts)\n",
    "\n",
    "Does this trade rely on the Expectations Hypothesis being true or false? How about this type of trade in general?"
   ]
  },
  {
   "cell_type": "markdown",
   "metadata": {},
   "source": [
    "The trading strategy involving strip bonds and accounting for convexity does not directly depend on the validity of the Expectations Hypothesis (EH) as it does not hinge on the idea that long-term interest rates reflect market expectations of future short-term rates. If the Expectations Hypothesis were true, it would mean changes in the spot rate curve are predictable based on current long-term rates, potentially diminishing the trade's movements from shifts in interest rates. However, the trade's focus on exploiting convexity rather than forecasting rate movements means its effectiveness might not be significantly impacted by the truth of the Expectations Hypothesis."
   ]
  },
  {
   "cell_type": "markdown",
   "metadata": {},
   "source": [
    "### 8. (5pts)\n",
    "\n",
    "As of `2012-01-31`, is the market environment favorable to this type of long-short trade?\n",
    "\n",
    "Be specific."
   ]
  },
  {
   "cell_type": "markdown",
   "metadata": {},
   "source": [
    "With the given discount factors showing an upward-sloping yield curve on 2012-01-31, the market may be less favorable for a trade long on longer duration bonds. Longer-duration bonds will decrease in value more if interest rates rise, and the upward-sloping yield curve suggests higher rates in the future, which could negatively impact the value of the long position."
   ]
  },
  {
   "cell_type": "markdown",
   "metadata": {},
   "source": [
    "### 9. (5pts)\n",
    "\n",
    "As of `2010-01-29`, what is the continuously compounded forward rate from $T_1=2\\to T_2=4$?"
   ]
  },
  {
   "cell_type": "code",
   "execution_count": 20,
   "metadata": {},
   "outputs": [
    {
     "name": "stdout",
     "output_type": "stream",
     "text": [
      "Continuous compounded forward rate:  2.89 %\n"
     ]
    }
   ],
   "source": [
    "ccfr=continuous_from_discount((fact[4]/fact[2]).values[0],2)\n",
    "print('Continuous compounded forward rate: ', round(ccfr*100, 2), '%')"
   ]
  },
  {
   "cell_type": "markdown",
   "metadata": {},
   "source": [
    "### 10. (5pts)\n",
    "\n",
    "As of `2012-01-31`, is the two-year continuously-compoounded spot rate, $r(0,2)$ higher or lower than the forward rate calculated above for `2010-01-29`?\n",
    "\n",
    "Is this surprising?"
   ]
  },
  {
   "cell_type": "code",
   "execution_count": 21,
   "metadata": {},
   "outputs": [
    {
     "data": {
      "text/html": [
       "<div>\n",
       "<style scoped>\n",
       "    .dataframe tbody tr th:only-of-type {\n",
       "        vertical-align: middle;\n",
       "    }\n",
       "\n",
       "    .dataframe tbody tr th {\n",
       "        vertical-align: top;\n",
       "    }\n",
       "\n",
       "    .dataframe thead th {\n",
       "        text-align: right;\n",
       "    }\n",
       "</style>\n",
       "<table border=\"1\" class=\"dataframe\">\n",
       "  <thead>\n",
       "    <tr style=\"text-align: right;\">\n",
       "      <th></th>\n",
       "      <th>date</th>\n",
       "      <th>1</th>\n",
       "      <th>2</th>\n",
       "      <th>3</th>\n",
       "      <th>4</th>\n",
       "      <th>5</th>\n",
       "    </tr>\n",
       "  </thead>\n",
       "  <tbody>\n",
       "    <tr>\n",
       "      <th>715</th>\n",
       "      <td>2012-01-31</td>\n",
       "      <td>99.847386</td>\n",
       "      <td>99.555225</td>\n",
       "      <td>99.089131</td>\n",
       "      <td>98.067733</td>\n",
       "      <td>96.435549</td>\n",
       "    </tr>\n",
       "  </tbody>\n",
       "</table>\n",
       "</div>"
      ],
      "text/plain": [
       "          date          1          2          3          4          5\n",
       "715 2012-01-31  99.847386  99.555225  99.089131  98.067733  96.435549"
      ]
     },
     "execution_count": 21,
     "metadata": {},
     "output_type": "execute_result"
    }
   ],
   "source": [
    "fact3"
   ]
  },
  {
   "cell_type": "code",
   "execution_count": 22,
   "metadata": {},
   "outputs": [
    {
     "name": "stdout",
     "output_type": "stream",
     "text": [
      "2012-01-31 two year continuous spot rate:  -2.3 %\n"
     ]
    }
   ],
   "source": [
    "print('2012-01-31 two year continuous spot rate: ',round(continuous_from_discount(fact3[2].values[0],2),2), '%')"
   ]
  },
  {
   "cell_type": "markdown",
   "metadata": {},
   "source": [
    "The two-year continuously coumpounded spot rate is lower than the forward rate. This is not surpising! We discussed the term premium, which menas that there are risk factors associated with longer time-horizons, so it makes sense that the forward rate is higher (long-term exlusive risk exposure)."
   ]
  },
  {
   "cell_type": "markdown",
   "metadata": {},
   "source": [
    "***"
   ]
  },
  {
   "cell_type": "markdown",
   "metadata": {},
   "source": [
    "# 4. The Swap-Spread"
   ]
  },
  {
   "cell_type": "markdown",
   "metadata": {},
   "source": [
    "Consider the market data below. \n",
    "* It refers to **20-year** T-bonds and swaps.\n",
    "* Assume the T-bond has exactly 20-years to maturity, with a coupon that exactly matches the YTM below."
   ]
  },
  {
   "cell_type": "code",
   "execution_count": 23,
   "metadata": {},
   "outputs": [
    {
     "data": {
      "text/html": [
       "<style type=\"text/css\">\n",
       "</style>\n",
       "<table id=\"T_3b3b7\">\n",
       "  <thead>\n",
       "    <tr>\n",
       "      <th class=\"blank level0\" >&nbsp;</th>\n",
       "      <th id=\"T_3b3b7_level0_col0\" class=\"col_heading level0 col0\" >Nov 2018</th>\n",
       "      <th id=\"T_3b3b7_level0_col1\" class=\"col_heading level0 col1\" >Nov 2023</th>\n",
       "    </tr>\n",
       "  </thead>\n",
       "  <tbody>\n",
       "    <tr>\n",
       "      <th id=\"T_3b3b7_level0_row0\" class=\"row_heading level0 row0\" >YTM</th>\n",
       "      <td id=\"T_3b3b7_row0_col0\" class=\"data row0 col0\" >3.1480%</td>\n",
       "      <td id=\"T_3b3b7_row0_col1\" class=\"data row0 col1\" >4.6670%</td>\n",
       "    </tr>\n",
       "    <tr>\n",
       "      <th id=\"T_3b3b7_level0_row1\" class=\"row_heading level0 row1\" >swap rate</th>\n",
       "      <td id=\"T_3b3b7_row1_col0\" class=\"data row1 col0\" >2.7639%</td>\n",
       "      <td id=\"T_3b3b7_row1_col1\" class=\"data row1 col1\" >3.9895%</td>\n",
       "    </tr>\n",
       "  </tbody>\n",
       "</table>\n"
      ],
      "text/plain": [
       "<pandas.io.formats.style.Styler at 0x1690a9990>"
      ]
     },
     "execution_count": 23,
     "metadata": {},
     "output_type": "execute_result"
    }
   ],
   "source": [
    "summary = pd.DataFrame(index=['YTM','swap rate'],columns = ['Nov 2018','Nov 2023'],dtype=float)\n",
    "summary.loc['YTM'] = [.031480, .046670]\n",
    "summary.loc['swap rate'] = [.027639,.039895]\n",
    "summary.style.format('{:.4%}')"
   ]
  },
  {
   "cell_type": "markdown",
   "metadata": {},
   "source": [
    "### 4.1. (5pts)\n",
    "\n",
    "Consider `Nov 2018`. Suppose you enter into a swap-spread trade.\n",
    "* You go long \\$100 million **market value** of 20-year T-bonds.\n",
    "* You simultaneously enter a 20-year swap, paying-fixed, with notional of \\$100 million.\n",
    "\n",
    "\n",
    "Report the \n",
    "* price of the T-bond in Nov 2018.\n",
    "* amount of T-bonds purchased, (each face value of 100)."
   ]
  },
  {
   "cell_type": "code",
   "execution_count": 24,
   "metadata": {},
   "outputs": [
    {
     "name": "stdout",
     "output_type": "stream",
     "text": [
      "Price of the T-bond: [USD] 100.0\n"
     ]
    }
   ],
   "source": [
    "price_tbond=get_price(summary.loc['YTM']['Nov 2018'],20,summary.loc['YTM']['Nov 2018']*100,2)\n",
    "print('Price of the T-bond: [USD]', round(price_tbond, 2))"
   ]
  },
  {
   "cell_type": "code",
   "execution_count": 25,
   "metadata": {},
   "outputs": [
    {
     "name": "stdout",
     "output_type": "stream",
     "text": [
      "Number of T-bonds to buy [in million]: 1.0\n"
     ]
    }
   ],
   "source": [
    "n_tbond=100/price_tbond\n",
    "print('Number of T-bonds to buy [in million]:', round(n_tbond,3))"
   ]
  },
  {
   "cell_type": "markdown",
   "metadata": {},
   "source": [
    "### 4.2. (5pts)\n",
    "\n",
    "Report the first cashflow of the trade, in May 2019.\n",
    "\n",
    "For simplicity, \n",
    "* assume the swap pays semiannually, at the same date the T-bond pays coupons.\n",
    "* the repo rate involved in the trade cancels out with the floating rate of the swap.\n",
    "* the repo term is semiannually, corresponding to the coupon and swap dates.\n",
    "* there are not any margin calls or distributions in the discussion below.\n",
    "\n",
    "If the haircut is 4\\% to repo the T-bonds, then what is the May 2019 cashflow as a percentage of the equity capital in the position?"
   ]
  },
  {
   "cell_type": "code",
   "execution_count": 26,
   "metadata": {},
   "outputs": [
    {
     "name": "stdout",
     "output_type": "stream",
     "text": [
      "Semiannual swap payment: [million] -1.38\n",
      "Semiannual treasury collection: [million] 1.57\n",
      "No repo effect\n"
     ]
    }
   ],
   "source": [
    "swap_payment=-summary.loc['swap rate']['Nov 2018']*100/2\n",
    "print('Semiannual swap payment: [million]', round(swap_payment, 2))\n",
    "\n",
    "treasury_collect=summary.loc['YTM']['Nov 2018']*100/2\n",
    "print('Semiannual treasury collection: [million]', round(treasury_collect, 2))\n",
    "print('No repo effect')"
   ]
  },
  {
   "cell_type": "code",
   "execution_count": 27,
   "metadata": {},
   "outputs": [
    {
     "name": "stdout",
     "output_type": "stream",
     "text": [
      "Net cash flow: [million] 0.19\n",
      "Cashflow as % of equity:  4.8 %\n"
     ]
    }
   ],
   "source": [
    "Equity_treasury=4\n",
    "net_cash=swap_payment+treasury_collect\n",
    "print('Net cash flow: [million]', round(net_cash, 2))\n",
    "print('Cashflow as % of equity: ', round(net_cash/Equity_treasury*100, 2), '%')"
   ]
  },
  {
   "cell_type": "markdown",
   "metadata": {},
   "source": [
    "### 4.3. (5pts)\n",
    "\n",
    "Report the risk of the trade.\n",
    "* Duration and dollar duration for the T-bond\n",
    "* Duration and dollar duration for the swap\n",
    "\n",
    "Note that you are reporting the usual, Macauley, duration--not the modified duration. \n",
    "\n",
    "For each of these duration calculations, use only the YTM and swap rates--no need for a discount curve."
   ]
  },
  {
   "cell_type": "markdown",
   "metadata": {},
   "source": [
    "**Reporting duration at moment of placing the trade!**"
   ]
  },
  {
   "cell_type": "code",
   "execution_count": 28,
   "metadata": {},
   "outputs": [
    {
     "name": "stdout",
     "output_type": "stream",
     "text": [
      "Macaulay duration of the T-bond: [years] 14.99\n",
      "Dollar duration of the T-bond: [USD] 1499.01\n",
      "Macaulay duration of the swap: [years] -15.0\n",
      "Dollar duration of the swap: [USD] -1499.65\n"
     ]
    }
   ],
   "source": [
    "dur_Tbond=macDuration(summary.loc['YTM']['Nov 2018'], summary.loc['YTM']['Nov 2018']*100, 20, 2)\n",
    "print('Macaulay duration of the T-bond: [years]', round(dur_Tbond, 2))\n",
    "ddur_Tbond=dur_Tbond*100\n",
    "print('Dollar duration of the T-bond: [USD]', round(ddur_Tbond, 2))\n",
    "\n",
    "dur_swap=0.5-macDuration(get_yield(100,20,summary.loc['swap rate']['Nov 2018']*100,2)*365.25, summary.loc['swap rate']['Nov 2018']*100,20,2)\n",
    "print('Macaulay duration of the swap: [years]', round(dur_swap, 2))\n",
    "ddur_swap=dur_swap*100\n",
    "print('Dollar duration of the swap: [USD]', round(ddur_swap, 2))\n"
   ]
  },
  {
   "cell_type": "markdown",
   "metadata": {},
   "source": [
    "### 4.4. (5pts)\n",
    "\n",
    "Use **modified** duration to answer the following:\n",
    "\n",
    "* What is the expected profit and loss if the swap-spread goes to zero?\n",
    "* What return would this be relative to the initial equity capital to put on the position?\n",
    "\n",
    "#### Note:\n",
    "We refer to the spread (swap-rate minus T-bond YTM) going to zero symmetrically (the YTM falls and swap rate rise equally until converging.)"
   ]
  },
  {
   "cell_type": "code",
   "execution_count": 29,
   "metadata": {},
   "outputs": [],
   "source": [
    "mdur_Tbond=ddur_Tbond/(1+summary.loc['YTM']['Nov 2018']/2)\n",
    "mdur_swap=ddur_swap/(1+summary.loc['swap rate']['Nov 2018']/2)"
   ]
  },
  {
   "cell_type": "code",
   "execution_count": 30,
   "metadata": {},
   "outputs": [
    {
     "name": "stdout",
     "output_type": "stream",
     "text": [
      "PnL of T-bond [million]:  2.83\n",
      "PnL of swap [million]:  2.84\n",
      "Total PnL [million]:  5.68\n"
     ]
    }
   ],
   "source": [
    "spread=-(summary.loc['swap rate']['Nov 2018']-summary.loc['YTM']['Nov 2018'])\n",
    "pnl_Tbond=n_tbond*mdur_Tbond*spread*price_tbond/200\n",
    "pnl_swap=-100*mdur_swap*spread/200\n",
    "print('PnL of T-bond [million]: ', round(pnl_Tbond, 2))\n",
    "print('PnL of swap [million]: ', round(pnl_swap, 2))\n",
    "print('Total PnL [million]: ', round(pnl_Tbond+pnl_swap, 2))"
   ]
  },
  {
   "cell_type": "markdown",
   "metadata": {},
   "source": [
    "### 4.5. (10pts)\n",
    "\n",
    "Now it is `Nov 2023`. Use the market quotes to report...\n",
    "* the value of the long T-bond positions (15 years-to-maturity)\n",
    "* the value of the paying-fixed swap (15 years-to-expiration)\n",
    "* the net value of your position and return on your equity capital."
   ]
  },
  {
   "cell_type": "code",
   "execution_count": 31,
   "metadata": {},
   "outputs": [
    {
     "name": "stdout",
     "output_type": "stream",
     "text": [
      "Price of the T-bonds: [USD] 83.74\n",
      "Price of the swap paying fixed: [USD] 86.27\n",
      " \n",
      "Value of the position [million]:  -2.52\n",
      "Return on equity -63.02 %\n"
     ]
    }
   ],
   "source": [
    "nt_price=get_price(summary.loc['YTM']['Nov 2023'],15,summary.loc['YTM']['Nov 2018']*100,2)\n",
    "print('Price of the T-bonds: [USD]', round(nt_price, 2))\n",
    "nswap_price=get_price(summary.loc['swap rate']['Nov 2023'],15,summary.loc['swap rate']['Nov 2018']*100,2)\n",
    "print('Price of the swap paying fixed: [USD]', round(nswap_price, 2))\n",
    "\n",
    "\n",
    "print(' ')\n",
    "value_position=(nt_price*n_tbond)-(nswap_price)\n",
    "\n",
    "print('Value of the position [million]: ', round(value_position, 2))\n",
    "\n",
    "print('Return on equity', round(value_position/Equity_treasury*100, 2), '%')"
   ]
  },
  {
   "cell_type": "markdown",
   "metadata": {},
   "source": [
    "### 4.6. (5pts)\n",
    "\n",
    "Assume there are no market frictions, and there is more credit risk in the swap than in the T-bond.\n",
    "\n",
    "In that case, is the swap-spread trade an arbitrage, a statistically favorable trade, both, or neither? \n",
    "\n",
    "Be specific whether your answer is for the long-term or short-term."
   ]
  },
  {
   "cell_type": "markdown",
   "metadata": {},
   "source": [
    "If there is more credit risk in the swap than in the T-bond and no market frictions, the swap-spread trade cannot be considered a pure arbitrage because the two positions are not perfectly substitutable due to the difference in credit risk. Instead, it could be seen as a statistically favorable trade in the long-term, assuming that the credit risk premium embedded in the swap rate compensates for the additional risk over the life of the trade. In the short-term, however, market perceptions and liquidity concerns could dominate, making it less predictable and not necessarily statistically favorable."
   ]
  },
  {
   "cell_type": "markdown",
   "metadata": {},
   "source": [
    "***"
   ]
  }
 ],
 "metadata": {
  "hide_input": false,
  "kernelspec": {
   "display_name": "Python 3 (ipykernel)",
   "language": "python",
   "name": "python3"
  },
  "language_info": {
   "codemirror_mode": {
    "name": "ipython",
    "version": 3
   },
   "file_extension": ".py",
   "mimetype": "text/x-python",
   "name": "python",
   "nbconvert_exporter": "python",
   "pygments_lexer": "ipython3",
   "version": "3.11.5"
  }
 },
 "nbformat": 4,
 "nbformat_minor": 4
}
